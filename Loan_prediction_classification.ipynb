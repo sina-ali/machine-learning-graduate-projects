{
 "cells": [
  {
   "cell_type": "markdown",
   "id": "720dc97b",
   "metadata": {},
   "source": [
    "# Loan prediction : Classification"
   ]
  },
  {
   "cell_type": "markdown",
   "id": "c6666747",
   "metadata": {},
   "source": [
    "#### Repository: link to my OneDrive\n",
    "###### where you'll find the original notebook\n",
    "\n",
    "https://liveuclac-my.sharepoint.com/:u:/g/personal/uceis36_ucl_ac_uk/EVIetWv5sShDuuWC9igosSkBD7t_c5MzuDh4_RhAgYSNcw?e=kW000W"
   ]
  },
  {
   "cell_type": "markdown",
   "id": "5451a6c2",
   "metadata": {},
   "source": [
    "## All imports"
   ]
  },
  {
   "cell_type": "code",
   "execution_count": 15,
   "id": "ba587ecc",
   "metadata": {},
   "outputs": [],
   "source": [
    "# loading essential libraries\n",
    "import pandas as pd\n",
    "import os\n",
    "import numpy as np\n",
    "import datetime\n",
    " \n",
    "#import all needed libraries from sklearn\n",
    "from sklearn.impute import SimpleImputer \n",
    "from sklearn.preprocessing import StandardScaler, OneHotEncoder\n",
    "from sklearn.model_selection import train_test_split, StratifiedKFold, cross_val_score, KFold, GridSearchCV\n",
    "from sklearn.metrics import confusion_matrix, roc_auc_score, accuracy_score, roc_curve\n",
    "from sklearn.svm import LinearSVC"
   ]
  },
  {
   "cell_type": "code",
   "execution_count": 16,
   "id": "80092121",
   "metadata": {},
   "outputs": [],
   "source": [
    "#For plotting\n",
    "import seaborn as sns  #to make plots using seaborn\n",
    "color = sns.color_palette()\n",
    "import matplotlib\n",
    "import matplotlib.pyplot as plt  #for plotting"
   ]
  },
  {
   "cell_type": "code",
   "execution_count": 17,
   "id": "68032c5e",
   "metadata": {},
   "outputs": [],
   "source": [
    "#import classifiers\n",
    "from xgboost import XGBClassifier\n",
    "from sklearn.ensemble import RandomForestClassifier, ExtraTreesClassifier, BaggingClassifier, AdaBoostClassifier, GradientBoostingClassifier\n",
    "from sklearn.linear_model import SGDClassifier\n",
    "from sklearn.neighbors import KNeighborsClassifier\n",
    "from sklearn.linear_model import LogisticRegression\n",
    "\n",
    "#to make sure everythings is stable when running\n",
    "np.random.seed(42)"
   ]
  },
  {
   "cell_type": "code",
   "execution_count": 18,
   "id": "4a2df174",
   "metadata": {},
   "outputs": [],
   "source": [
    "import warnings\n",
    "warnings.filterwarnings(\"ignore\")"
   ]
  },
  {
   "cell_type": "markdown",
   "id": "558187a4",
   "metadata": {},
   "source": [
    "# Problem framing\n"
   ]
  },
  {
   "cell_type": "markdown",
   "id": "ba089c34",
   "metadata": {},
   "source": [
    "Thera Bank, a new bank, is aiming to grow its customer base and more importantly to increase its number of borrowers, since loans and other  lending products are banks' main profit sources, through the generation of net interest income. \n",
    "\n",
    "However, not all customers within a bank have equal likelihood of taking loans: indeed, depending on their level of education, professional experience, age or any other demographic, they have more or less chances to borrow money from the banks. Hence the latter entity should put efforts into targeting the right segmenting. \n",
    "\n",
    "An accurate strategy to achieve this objective would be through customer classification. Using a classification model to predict the likelihood of a liability customer (depositor) buying personal loans is an efficient strategy to make sure we are targeting the right group of customers. Retaining the newly acquired borrowers as depositors will generate profit and expand Thera Bank's business. "
   ]
  },
  {
   "cell_type": "markdown",
   "id": "fb85e4dd",
   "metadata": {},
   "source": [
    "## Data cleaning"
   ]
  },
  {
   "cell_type": "markdown",
   "id": "8bcc76f2",
   "metadata": {},
   "source": [
    "#### link to the dataset\n",
    " https://www.kaggle.com/itsmesunil/bank-loan-modelling?select=Bank_Personal_Loan_Modelling.xlsx"
   ]
  },
  {
   "cell_type": "code",
   "execution_count": 19,
   "id": "a4283ab6",
   "metadata": {},
   "outputs": [
    {
     "data": {
      "text/html": [
       "<div>\n",
       "<style scoped>\n",
       "    .dataframe tbody tr th:only-of-type {\n",
       "        vertical-align: middle;\n",
       "    }\n",
       "\n",
       "    .dataframe tbody tr th {\n",
       "        vertical-align: top;\n",
       "    }\n",
       "\n",
       "    .dataframe thead th {\n",
       "        text-align: right;\n",
       "    }\n",
       "</style>\n",
       "<table border=\"1\" class=\"dataframe\">\n",
       "  <thead>\n",
       "    <tr style=\"text-align: right;\">\n",
       "      <th></th>\n",
       "      <th>ID</th>\n",
       "      <th>Age</th>\n",
       "      <th>Experience</th>\n",
       "      <th>Income</th>\n",
       "      <th>ZIP Code</th>\n",
       "      <th>Family</th>\n",
       "      <th>CCAvg</th>\n",
       "      <th>Education</th>\n",
       "      <th>Mortgage</th>\n",
       "      <th>Personal Loan</th>\n",
       "      <th>Securities Account</th>\n",
       "      <th>CD Account</th>\n",
       "      <th>Online</th>\n",
       "      <th>CreditCard</th>\n",
       "    </tr>\n",
       "  </thead>\n",
       "  <tbody>\n",
       "    <tr>\n",
       "      <th>0</th>\n",
       "      <td>1</td>\n",
       "      <td>25</td>\n",
       "      <td>1</td>\n",
       "      <td>49</td>\n",
       "      <td>91107</td>\n",
       "      <td>4</td>\n",
       "      <td>1.6</td>\n",
       "      <td>1</td>\n",
       "      <td>0</td>\n",
       "      <td>0</td>\n",
       "      <td>1</td>\n",
       "      <td>0</td>\n",
       "      <td>0</td>\n",
       "      <td>0</td>\n",
       "    </tr>\n",
       "    <tr>\n",
       "      <th>1</th>\n",
       "      <td>2</td>\n",
       "      <td>45</td>\n",
       "      <td>19</td>\n",
       "      <td>34</td>\n",
       "      <td>90089</td>\n",
       "      <td>3</td>\n",
       "      <td>1.5</td>\n",
       "      <td>1</td>\n",
       "      <td>0</td>\n",
       "      <td>0</td>\n",
       "      <td>1</td>\n",
       "      <td>0</td>\n",
       "      <td>0</td>\n",
       "      <td>0</td>\n",
       "    </tr>\n",
       "    <tr>\n",
       "      <th>2</th>\n",
       "      <td>3</td>\n",
       "      <td>39</td>\n",
       "      <td>15</td>\n",
       "      <td>11</td>\n",
       "      <td>94720</td>\n",
       "      <td>1</td>\n",
       "      <td>1.0</td>\n",
       "      <td>1</td>\n",
       "      <td>0</td>\n",
       "      <td>0</td>\n",
       "      <td>0</td>\n",
       "      <td>0</td>\n",
       "      <td>0</td>\n",
       "      <td>0</td>\n",
       "    </tr>\n",
       "    <tr>\n",
       "      <th>3</th>\n",
       "      <td>4</td>\n",
       "      <td>35</td>\n",
       "      <td>9</td>\n",
       "      <td>100</td>\n",
       "      <td>94112</td>\n",
       "      <td>1</td>\n",
       "      <td>2.7</td>\n",
       "      <td>2</td>\n",
       "      <td>0</td>\n",
       "      <td>0</td>\n",
       "      <td>0</td>\n",
       "      <td>0</td>\n",
       "      <td>0</td>\n",
       "      <td>0</td>\n",
       "    </tr>\n",
       "    <tr>\n",
       "      <th>4</th>\n",
       "      <td>5</td>\n",
       "      <td>35</td>\n",
       "      <td>8</td>\n",
       "      <td>45</td>\n",
       "      <td>91330</td>\n",
       "      <td>4</td>\n",
       "      <td>1.0</td>\n",
       "      <td>2</td>\n",
       "      <td>0</td>\n",
       "      <td>0</td>\n",
       "      <td>0</td>\n",
       "      <td>0</td>\n",
       "      <td>0</td>\n",
       "      <td>1</td>\n",
       "    </tr>\n",
       "  </tbody>\n",
       "</table>\n",
       "</div>"
      ],
      "text/plain": [
       "   ID  Age  Experience  Income  ZIP Code  Family  CCAvg  Education  Mortgage  \\\n",
       "0   1   25           1      49     91107       4    1.6          1         0   \n",
       "1   2   45          19      34     90089       3    1.5          1         0   \n",
       "2   3   39          15      11     94720       1    1.0          1         0   \n",
       "3   4   35           9     100     94112       1    2.7          2         0   \n",
       "4   5   35           8      45     91330       4    1.0          2         0   \n",
       "\n",
       "   Personal Loan  Securities Account  CD Account  Online  CreditCard  \n",
       "0              0                   1           0       0           0  \n",
       "1              0                   1           0       0           0  \n",
       "2              0                   0           0       0           0  \n",
       "3              0                   0           0       0           0  \n",
       "4              0                   0           0       0           1  "
      ]
     },
     "execution_count": 19,
     "metadata": {},
     "output_type": "execute_result"
    }
   ],
   "source": [
    "#loading the dataset\n",
    "df = pd.read_excel('Bank_Personal_Loan_Modelling.xlsx',\n",
    "                   sheet_name='Data')\n",
    "df.head()"
   ]
  },
  {
   "cell_type": "code",
   "execution_count": 20,
   "id": "34df9a21",
   "metadata": {},
   "outputs": [
    {
     "data": {
      "text/plain": [
       "'This dataset has 5000 rows and 14 columns'"
      ]
     },
     "execution_count": 20,
     "metadata": {},
     "output_type": "execute_result"
    }
   ],
   "source": [
    "\"This dataset has {0} rows and {1} columns\".format(len(df),\n",
    "                                                   len(df.columns))"
   ]
  },
  {
   "cell_type": "markdown",
   "id": "0be63b92",
   "metadata": {},
   "source": [
    "For more clarity, here is a breakdown of the meaning of each variable found in the dataset (according to the dataset's creator:\n",
    "- 'ID' = Customer ID\t\t\t\t\t\t\t\n",
    "- 'Age'\t= Customer's age\t\t\t\t\t\t\t\n",
    "- 'Experience'=\tnumber of years of professional experience\t\t\t\t\t\t\t\n",
    "- 'Income' = Annual income of the customer ( USD 000)\t\t\t\t\t\t\t\n",
    "- 'ZIPCode'\t= Home Address ZIP code.\t\t\t\t\t\t\t\n",
    "- 'Family'\t= Family size of the customer\t\t\t\t\t\t\t\n",
    "- 'CCAvg' = average spending on credit cards per month (USD 000)\t\t\t\t\t\t\t\n",
    "- 'Education' = Education Level. 1: Undergrad; 2: Graduate; 3: Advanced/Professional\t\t\t\t\t\t\t\n",
    "- 'Mortgage' = Value of house mortgage if any. ( USD 000 )\t\t\t\t\t\t\t\n",
    "- 'Personal Loan' = Did this customer accept the personal loan offered in the last campaign?\n",
    "- 'Securities Account'\tDoes the customer have a securities account with the bank?\t\t\t\t\t\t\t\n",
    "- 'CD Account'\tDoes the customer have a certificate of deposit (CD) account with the bank?\t\t\t\t\t\t\t\n",
    "- 'Online' = Does the customer use internet banking facilities?\t\t\t\t\t\t\t\n",
    "- 'CreditCard' = Does the customer use a credit card issued by UniversalBank?"
   ]
  },
  {
   "cell_type": "code",
   "execution_count": 21,
   "id": "dbfd9ecd",
   "metadata": {
    "scrolled": true
   },
   "outputs": [
    {
     "name": "stdout",
     "output_type": "stream",
     "text": [
      "<class 'pandas.core.frame.DataFrame'>\n",
      "RangeIndex: 5000 entries, 0 to 4999\n",
      "Data columns (total 14 columns):\n",
      " #   Column              Non-Null Count  Dtype  \n",
      "---  ------              --------------  -----  \n",
      " 0   ID                  5000 non-null   int64  \n",
      " 1   Age                 5000 non-null   int64  \n",
      " 2   Experience          5000 non-null   int64  \n",
      " 3   Income              5000 non-null   int64  \n",
      " 4   ZIP Code            5000 non-null   int64  \n",
      " 5   Family              5000 non-null   int64  \n",
      " 6   CCAvg               5000 non-null   float64\n",
      " 7   Education           5000 non-null   int64  \n",
      " 8   Mortgage            5000 non-null   int64  \n",
      " 9   Personal Loan       5000 non-null   int64  \n",
      " 10  Securities Account  5000 non-null   int64  \n",
      " 11  CD Account          5000 non-null   int64  \n",
      " 12  Online              5000 non-null   int64  \n",
      " 13  CreditCard          5000 non-null   int64  \n",
      "dtypes: float64(1), int64(13)\n",
      "memory usage: 547.0 KB\n"
     ]
    },
    {
     "data": {
      "text/plain": [
       "'There are 0 number of rows with at least 1 missing value'"
      ]
     },
     "execution_count": 21,
     "metadata": {},
     "output_type": "execute_result"
    }
   ],
   "source": [
    "df.info()\n",
    "\"There are {0} number of rows with at least 1 missing value\".format(df.shape[0] - df.dropna().shape[0])"
   ]
  },
  {
   "cell_type": "code",
   "execution_count": 22,
   "id": "be316941",
   "metadata": {},
   "outputs": [
    {
     "data": {
      "text/plain": [
       "ID                    0\n",
       "Age                   0\n",
       "Experience            0\n",
       "Income                0\n",
       "ZIP Code              0\n",
       "Family                0\n",
       "CCAvg                 0\n",
       "Education             0\n",
       "Mortgage              0\n",
       "Personal Loan         0\n",
       "Securities Account    0\n",
       "CD Account            0\n",
       "Online                0\n",
       "CreditCard            0\n",
       "dtype: int64"
      ]
     },
     "execution_count": 22,
     "metadata": {},
     "output_type": "execute_result"
    }
   ],
   "source": [
    "#There seems to be no missing values, but let's confirm it\n",
    "df.isnull().sum()"
   ]
  },
  {
   "cell_type": "markdown",
   "id": "5c85e70b",
   "metadata": {},
   "source": [
    "**There seems to be no missing values at all.**"
   ]
  },
  {
   "cell_type": "markdown",
   "id": "0cccde1d",
   "metadata": {},
   "source": [
    "## Exploratory Data Analysis"
   ]
  },
  {
   "cell_type": "code",
   "execution_count": 23,
   "id": "b8167d46",
   "metadata": {},
   "outputs": [
    {
     "data": {
      "image/png": "[encoded data removed]",
      "text/plain": [
       "<Figure size 1008x576 with 1 Axes>"
      ]
     },
     "metadata": {
      "needs_background": "light"
     },
     "output_type": "display_data"
    }
   ],
   "source": [
    "#let's further analyse the distribution with a \n",
    "#scatterplot and try to analyse a potential relationship between\n",
    "#customers' income and credit card spendings\n",
    "\n",
    "fig, ax = plt.subplots(figsize=(14,8))\n",
    "ax.scatter(df['CCAvg'], df['Income'], \n",
    "           color = \"cornflowerblue\")  #to create the scatter plot\n",
    "ax.set_xlabel('Monthly Average Spending on Credit Cards')\n",
    "ax.set_ylabel('Customers Yearly Income')\n",
    "plt.show()"
   ]
  },
  {
   "cell_type": "code",
   "execution_count": 24,
   "id": "e0ab9122",
   "metadata": {},
   "outputs": [
    {
     "data": {
      "image/png": "[encoded data removed]",
      "text/plain": [
       "<Figure size 1440x720 with 9 Axes>"
      ]
     },
     "metadata": {
      "needs_background": "light"
     },
     "output_type": "display_data"
    }
   ],
   "source": [
    "num_feat = [\"Income\", \"Mortgage\", \"Education\"] \n",
    "categorical_feat = [\"Securities Account\", \"CD Account\", \"Online\",\n",
    "                    \"CreditCard\", \"Family\", \"CCAvg\"]\n",
    "\n",
    "df[num_feat].hist(bins=15, figsize=(20, 10), layout=(3, 3), \n",
    "                  color =\"cornflowerblue\");"
   ]
  },
  {
   "cell_type": "code",
   "execution_count": 124,
   "id": "a2473de1",
   "metadata": {},
   "outputs": [
    {
     "data": {
      "text/plain": [
       "<seaborn.axisgrid.FacetGrid at 0x7fc27b3ab250>"
      ]
     },
     "execution_count": 124,
     "metadata": {},
     "output_type": "execute_result"
    },
    {
     "data": {
      "image/png": "[encoded data removed]",
      "text/plain": [
       "<Figure size 445.8x360 with 1 Axes>"
      ]
     },
     "metadata": {},
     "output_type": "display_data"
    }
   ],
   "source": [
    "#plotting the relationship of Education and Income \n",
    "#against Personal Loan\n",
    "sns.catplot(x='Education', y = 'Income', data = df,kind= 'box',\n",
    "            hue='Personal Loan', palette =  \"YlGnBu\")"
   ]
  },
  {
   "cell_type": "markdown",
   "id": "729dab8c",
   "metadata": {},
   "source": [
    "We notice the more income a person earns (usually between USD 110,000 and USD 175,000 per year), the most likely they are to make a loan, which is most likely due to their financial stability and banks being more confident in their reimbursing capabilites, so lending them more money.\n",
    "This trend slightly confirms itself with a higher education level, but the change is marginal. "
   ]
  },
  {
   "cell_type": "code",
   "execution_count": 26,
   "id": "c428554f",
   "metadata": {},
   "outputs": [
    {
     "data": {
      "text/plain": [
       "<AxesSubplot:xlabel='CCAvg', ylabel='Income'>"
      ]
     },
     "execution_count": 26,
     "metadata": {},
     "output_type": "execute_result"
    },
    {
     "data": {
      "image/png": "[encoded data removed]",
      "text/plain": [
       "<Figure size 432x288 with 1 Axes>"
      ]
     },
     "metadata": {
      "needs_background": "light"
     },
     "output_type": "display_data"
    }
   ],
   "source": [
    "#plotting the relationship of CCAvg and Income \n",
    "#against Personal Loan\n",
    "sns.scatterplot(x='CCAvg', y = 'Income', data = df, hue='Personal Loan', \n",
    "                alpha = 0.7, palette = \"YlGnBu\")"
   ]
  },
  {
   "cell_type": "markdown",
   "id": "b9cd71d5",
   "metadata": {},
   "source": [
    "It seems that there is a high correlation between having a high income (more than USD 100,000 per year), spending high amounts of money per month (more than USD 2,000) and the likelihood of getting a personal loan. Whereas on the other hand, low income earners spend less and also have less chance of making a loan, probably for the same reason as stated above. "
   ]
  },
  {
   "cell_type": "code",
   "execution_count": 134,
   "id": "0c4384ce",
   "metadata": {},
   "outputs": [
    {
     "data": {
      "image/png": "[encoded data removed]",
      "text/plain": [
       "<Figure size 432x288 with 1 Axes>"
      ]
     },
     "metadata": {},
     "output_type": "display_data"
    }
   ],
   "source": [
    "#pie chart with target feature's (personal loan) distribution\n",
    "data = df['Personal Loan'].value_counts().values.tolist()\n",
    "labels = [\"Didn't take Personal loan\", 'Took Personal loan']\n",
    "colors = sns.color_palette('pastel')[0:2]\n",
    "\n",
    "#create pie chart\n",
    "plt.pie(data, labels = labels, colors = colors, autopct='%.0f%%')\n",
    "plt.show()"
   ]
  },
  {
   "cell_type": "markdown",
   "id": "f3ab0c80",
   "metadata": {},
   "source": [
    "* This dataset is **imbalanced** as only 10% of the scope of customers have taken a personal loan from the bank."
   ]
  },
  {
   "cell_type": "code",
   "execution_count": 135,
   "id": "152e8674",
   "metadata": {},
   "outputs": [
    {
     "data": {
      "text/plain": [
       "<seaborn.axisgrid.FacetGrid at 0x7fc27c6136d0>"
      ]
     },
     "execution_count": 135,
     "metadata": {},
     "output_type": "execute_result"
    },
    {
     "data": {
      "image/png": "[encoded data removed]",
      "text/plain": [
       "<Figure size 445.8x360 with 1 Axes>"
      ]
     },
     "metadata": {},
     "output_type": "display_data"
    }
   ],
   "source": [
    "#chart that shows distribution of categorical var\n",
    "sns.displot(data=df, x=\"Income\", hue=\"Personal Loan\", \n",
    "            kind=\"kde\", palette = 'winter')"
   ]
  },
  {
   "cell_type": "markdown",
   "id": "a3d6cfd1",
   "metadata": {},
   "source": [
    "* This graph shows us that people with **higher income are more willing to take a personal loan** from the bank than the people with lower income. Moreover, in the income range of 175 and 200, there are more people willing to take a personal loan than people not willing to take it and knowing that only 10% of the customers have taken a personal loan, it shows **how important the feature Income really is**."
   ]
  },
  {
   "cell_type": "code",
   "execution_count": 136,
   "id": "405648e4",
   "metadata": {},
   "outputs": [
    {
     "data": {
      "text/plain": [
       "<AxesSubplot:xlabel='Education', ylabel='Count'>"
      ]
     },
     "execution_count": 136,
     "metadata": {},
     "output_type": "execute_result"
    },
    {
     "data": {
      "image/png": "[encoded data removed]",
      "text/plain": [
       "<Figure size 432x288 with 1 Axes>"
      ]
     },
     "metadata": {},
     "output_type": "display_data"
    }
   ],
   "source": [
    "#bar chart with different levels of education \n",
    "#against personal loan\n",
    "sns.histplot(x=\"Education\", hue=\"Personal Loan\", data=df, \n",
    "             palette = 'winter', multiple = 'dodge')"
   ]
  },
  {
   "cell_type": "markdown",
   "id": "a0d63796",
   "metadata": {},
   "source": [
    "* In this graph, we see the chances of someone taking a personal loan growing with the degree of education."
   ]
  },
  {
   "cell_type": "code",
   "execution_count": 30,
   "id": "7df52320",
   "metadata": {},
   "outputs": [
    {
     "data": {
      "text/html": [
       "<div>\n",
       "<style scoped>\n",
       "    .dataframe tbody tr th:only-of-type {\n",
       "        vertical-align: middle;\n",
       "    }\n",
       "\n",
       "    .dataframe tbody tr th {\n",
       "        vertical-align: top;\n",
       "    }\n",
       "\n",
       "    .dataframe thead th {\n",
       "        text-align: right;\n",
       "    }\n",
       "</style>\n",
       "<table border=\"1\" class=\"dataframe\">\n",
       "  <thead>\n",
       "    <tr style=\"text-align: right;\">\n",
       "      <th></th>\n",
       "      <th>ID</th>\n",
       "      <th>Age</th>\n",
       "      <th>Experience</th>\n",
       "      <th>Income</th>\n",
       "      <th>ZIP Code</th>\n",
       "      <th>Family</th>\n",
       "      <th>CCAvg</th>\n",
       "      <th>Education</th>\n",
       "      <th>Mortgage</th>\n",
       "      <th>Personal Loan</th>\n",
       "      <th>Securities Account</th>\n",
       "      <th>CD Account</th>\n",
       "      <th>Online</th>\n",
       "      <th>CreditCard</th>\n",
       "    </tr>\n",
       "  </thead>\n",
       "  <tbody>\n",
       "    <tr>\n",
       "      <th>count</th>\n",
       "      <td>5000.000000</td>\n",
       "      <td>5000.000000</td>\n",
       "      <td>5000.000000</td>\n",
       "      <td>5000.000000</td>\n",
       "      <td>5000.000000</td>\n",
       "      <td>5000.000000</td>\n",
       "      <td>5000.000000</td>\n",
       "      <td>5000.000000</td>\n",
       "      <td>5000.000000</td>\n",
       "      <td>5000.000000</td>\n",
       "      <td>5000.000000</td>\n",
       "      <td>5000.00000</td>\n",
       "      <td>5000.000000</td>\n",
       "      <td>5000.000000</td>\n",
       "    </tr>\n",
       "    <tr>\n",
       "      <th>mean</th>\n",
       "      <td>2500.500000</td>\n",
       "      <td>45.338400</td>\n",
       "      <td>20.104600</td>\n",
       "      <td>73.774200</td>\n",
       "      <td>93152.503000</td>\n",
       "      <td>2.396400</td>\n",
       "      <td>1.937913</td>\n",
       "      <td>1.881000</td>\n",
       "      <td>56.498800</td>\n",
       "      <td>0.096000</td>\n",
       "      <td>0.104400</td>\n",
       "      <td>0.06040</td>\n",
       "      <td>0.596800</td>\n",
       "      <td>0.294000</td>\n",
       "    </tr>\n",
       "    <tr>\n",
       "      <th>std</th>\n",
       "      <td>1443.520003</td>\n",
       "      <td>11.463166</td>\n",
       "      <td>11.467954</td>\n",
       "      <td>46.033729</td>\n",
       "      <td>2121.852197</td>\n",
       "      <td>1.147663</td>\n",
       "      <td>1.747666</td>\n",
       "      <td>0.839869</td>\n",
       "      <td>101.713802</td>\n",
       "      <td>0.294621</td>\n",
       "      <td>0.305809</td>\n",
       "      <td>0.23825</td>\n",
       "      <td>0.490589</td>\n",
       "      <td>0.455637</td>\n",
       "    </tr>\n",
       "    <tr>\n",
       "      <th>min</th>\n",
       "      <td>1.000000</td>\n",
       "      <td>23.000000</td>\n",
       "      <td>-3.000000</td>\n",
       "      <td>8.000000</td>\n",
       "      <td>9307.000000</td>\n",
       "      <td>1.000000</td>\n",
       "      <td>0.000000</td>\n",
       "      <td>1.000000</td>\n",
       "      <td>0.000000</td>\n",
       "      <td>0.000000</td>\n",
       "      <td>0.000000</td>\n",
       "      <td>0.00000</td>\n",
       "      <td>0.000000</td>\n",
       "      <td>0.000000</td>\n",
       "    </tr>\n",
       "    <tr>\n",
       "      <th>25%</th>\n",
       "      <td>1250.750000</td>\n",
       "      <td>35.000000</td>\n",
       "      <td>10.000000</td>\n",
       "      <td>39.000000</td>\n",
       "      <td>91911.000000</td>\n",
       "      <td>1.000000</td>\n",
       "      <td>0.700000</td>\n",
       "      <td>1.000000</td>\n",
       "      <td>0.000000</td>\n",
       "      <td>0.000000</td>\n",
       "      <td>0.000000</td>\n",
       "      <td>0.00000</td>\n",
       "      <td>0.000000</td>\n",
       "      <td>0.000000</td>\n",
       "    </tr>\n",
       "    <tr>\n",
       "      <th>50%</th>\n",
       "      <td>2500.500000</td>\n",
       "      <td>45.000000</td>\n",
       "      <td>20.000000</td>\n",
       "      <td>64.000000</td>\n",
       "      <td>93437.000000</td>\n",
       "      <td>2.000000</td>\n",
       "      <td>1.500000</td>\n",
       "      <td>2.000000</td>\n",
       "      <td>0.000000</td>\n",
       "      <td>0.000000</td>\n",
       "      <td>0.000000</td>\n",
       "      <td>0.00000</td>\n",
       "      <td>1.000000</td>\n",
       "      <td>0.000000</td>\n",
       "    </tr>\n",
       "    <tr>\n",
       "      <th>75%</th>\n",
       "      <td>3750.250000</td>\n",
       "      <td>55.000000</td>\n",
       "      <td>30.000000</td>\n",
       "      <td>98.000000</td>\n",
       "      <td>94608.000000</td>\n",
       "      <td>3.000000</td>\n",
       "      <td>2.500000</td>\n",
       "      <td>3.000000</td>\n",
       "      <td>101.000000</td>\n",
       "      <td>0.000000</td>\n",
       "      <td>0.000000</td>\n",
       "      <td>0.00000</td>\n",
       "      <td>1.000000</td>\n",
       "      <td>1.000000</td>\n",
       "    </tr>\n",
       "    <tr>\n",
       "      <th>max</th>\n",
       "      <td>5000.000000</td>\n",
       "      <td>67.000000</td>\n",
       "      <td>43.000000</td>\n",
       "      <td>224.000000</td>\n",
       "      <td>96651.000000</td>\n",
       "      <td>4.000000</td>\n",
       "      <td>10.000000</td>\n",
       "      <td>3.000000</td>\n",
       "      <td>635.000000</td>\n",
       "      <td>1.000000</td>\n",
       "      <td>1.000000</td>\n",
       "      <td>1.00000</td>\n",
       "      <td>1.000000</td>\n",
       "      <td>1.000000</td>\n",
       "    </tr>\n",
       "  </tbody>\n",
       "</table>\n",
       "</div>"
      ],
      "text/plain": [
       "                ID          Age   Experience       Income      ZIP Code  \\\n",
       "count  5000.000000  5000.000000  5000.000000  5000.000000   5000.000000   \n",
       "mean   2500.500000    45.338400    20.104600    73.774200  93152.503000   \n",
       "std    1443.520003    11.463166    11.467954    46.033729   2121.852197   \n",
       "min       1.000000    23.000000    -3.000000     8.000000   9307.000000   \n",
       "25%    1250.750000    35.000000    10.000000    39.000000  91911.000000   \n",
       "50%    2500.500000    45.000000    20.000000    64.000000  93437.000000   \n",
       "75%    3750.250000    55.000000    30.000000    98.000000  94608.000000   \n",
       "max    5000.000000    67.000000    43.000000   224.000000  96651.000000   \n",
       "\n",
       "            Family        CCAvg    Education     Mortgage  Personal Loan  \\\n",
       "count  5000.000000  5000.000000  5000.000000  5000.000000    5000.000000   \n",
       "mean      2.396400     1.937913     1.881000    56.498800       0.096000   \n",
       "std       1.147663     1.747666     0.839869   101.713802       0.294621   \n",
       "min       1.000000     0.000000     1.000000     0.000000       0.000000   \n",
       "25%       1.000000     0.700000     1.000000     0.000000       0.000000   \n",
       "50%       2.000000     1.500000     2.000000     0.000000       0.000000   \n",
       "75%       3.000000     2.500000     3.000000   101.000000       0.000000   \n",
       "max       4.000000    10.000000     3.000000   635.000000       1.000000   \n",
       "\n",
       "       Securities Account  CD Account       Online   CreditCard  \n",
       "count         5000.000000  5000.00000  5000.000000  5000.000000  \n",
       "mean             0.104400     0.06040     0.596800     0.294000  \n",
       "std              0.305809     0.23825     0.490589     0.455637  \n",
       "min              0.000000     0.00000     0.000000     0.000000  \n",
       "25%              0.000000     0.00000     0.000000     0.000000  \n",
       "50%              0.000000     0.00000     1.000000     0.000000  \n",
       "75%              0.000000     0.00000     1.000000     1.000000  \n",
       "max              1.000000     1.00000     1.000000     1.000000  "
      ]
     },
     "execution_count": 30,
     "metadata": {},
     "output_type": "execute_result"
    }
   ],
   "source": [
    "df.describe() \n",
    "#to see some interesting distribution, especially in CCAvg \n",
    "#to then potentially create bins for some of the features if needed"
   ]
  },
  {
   "cell_type": "markdown",
   "id": "dce3ce46",
   "metadata": {},
   "source": [
    "There seems to be some (sometimes important) discrepancy between the mean and 50% for the following variables:\n",
    "- Mortgage\n",
    "- Income\n",
    "- Education\n",
    "- CCAvg\n",
    "That means there are probably outliers, which we are going to examine in the following steps. "
   ]
  },
  {
   "cell_type": "code",
   "execution_count": 125,
   "id": "59ee4f24",
   "metadata": {},
   "outputs": [
    {
     "data": {
      "text/plain": [
       "<AxesSubplot:xlabel='Income'>"
      ]
     },
     "execution_count": 125,
     "metadata": {},
     "output_type": "execute_result"
    },
    {
     "data": {
      "image/png": "[encoded data removed]",
      "text/plain": [
       "<Figure size 432x288 with 1 Axes>"
      ]
     },
     "metadata": {},
     "output_type": "display_data"
    }
   ],
   "source": [
    "#let's see if there are outliers for Income\n",
    "sns.set(style=\"darkgrid\")\n",
    "sns.boxplot(x=df['Income'], palette = \"YlGnBu\")\n",
    "\n"
   ]
  },
  {
   "cell_type": "markdown",
   "id": "0db0b594",
   "metadata": {},
   "source": [
    "* Here there seems to be some outliers for the feature 'Income', especially after USD 180,000 per year. We can assume most customers earn between USD 40,000 and USD 180,000 a year."
   ]
  },
  {
   "cell_type": "code",
   "execution_count": 126,
   "id": "1bac94ac",
   "metadata": {},
   "outputs": [
    {
     "data": {
      "text/plain": [
       "<AxesSubplot:xlabel='CCAvg'>"
      ]
     },
     "execution_count": 126,
     "metadata": {},
     "output_type": "execute_result"
    },
    {
     "data": {
      "image/png": "[encoded data removed]",
      "text/plain": [
       "<Figure size 432x288 with 1 Axes>"
      ]
     },
     "metadata": {},
     "output_type": "display_data"
    }
   ],
   "source": [
    "#let's see if there are outliers for CCAvg\n",
    "sns.set(style=\"darkgrid\")\n",
    "sns.boxplot(x=df['CCAvg'], palette = \"YlGnBu\")"
   ]
  },
  {
   "cell_type": "markdown",
   "id": "31033718",
   "metadata": {},
   "source": [
    "* As we can see from the boxplot above, there seems to be a lot of outliers from USD 5,500 to USD 10,000 of spending a month: this means most of Thera Bank's clients spend less."
   ]
  },
  {
   "cell_type": "code",
   "execution_count": 128,
   "id": "3124ee34",
   "metadata": {},
   "outputs": [
    {
     "data": {
      "text/plain": [
       "<AxesSubplot:xlabel='Mortgage'>"
      ]
     },
     "execution_count": 128,
     "metadata": {},
     "output_type": "execute_result"
    },
    {
     "data": {
      "image/png": "[encoded data removed]",
      "text/plain": [
       "<Figure size 432x288 with 1 Axes>"
      ]
     },
     "metadata": {},
     "output_type": "display_data"
    }
   ],
   "source": [
    "#let's see if there are outliers for Mortgage\n",
    "sns.set(style=\"darkgrid\")\n",
    "sns.boxplot(x=df['Mortgage'], palette = \"YlGnBu\")"
   ]
  },
  {
   "cell_type": "code",
   "execution_count": 130,
   "id": "da1c5f7a",
   "metadata": {},
   "outputs": [
    {
     "data": {
      "text/plain": [
       "<AxesSubplot:xlabel='Income'>"
      ]
     },
     "execution_count": 130,
     "metadata": {},
     "output_type": "execute_result"
    },
    {
     "data": {
      "image/png": "[encoded data removed]",
      "text/plain": [
       "<Figure size 432x288 with 1 Axes>"
      ]
     },
     "metadata": {},
     "output_type": "display_data"
    }
   ],
   "source": [
    "#let's see if there are outliers for Income\n",
    "sns.set(style=\"darkgrid\")\n",
    "sns.boxplot(x=df['Income'], palette = \"YlGnBu\")"
   ]
  },
  {
   "cell_type": "code",
   "execution_count": 36,
   "id": "7808b661",
   "metadata": {},
   "outputs": [
    {
     "name": "stdout",
     "output_type": "stream",
     "text": [
      "ID --- int64 \n",
      " [   1    2    3 ... 4998 4999 5000] \n",
      "\n",
      "Age --- int64 \n",
      " [25 45 39 35 37 53 50 34 65 29 48 59 67 60 38 42 46 55 56 57 44 36 43 40\n",
      " 30 31 51 32 61 41 28 49 47 62 58 54 33 27 66 24 52 26 64 63 23] \n",
      "\n",
      "Experience --- int64 \n",
      " [ 1 19 15  9  8 13 27 24 10 39  5 23 32 41 30 14 18 21 28 31 11 16 20 35\n",
      "  6 25  7 12 26 37 17  2 36 29  3 22 -1 34  0 38 40 33  4 -2 42 -3 43] \n",
      "\n",
      "Income --- int64 \n",
      " [ 49  34  11 100  45  29  72  22  81 180 105 114  40 112 130 193  21  25\n",
      "  63  62  43 152  83 158  48 119  35  41  18  50 121  71 141  80  84  60\n",
      " 132 104  52 194   8 131 190  44 139  93 188  39 125  32  20 115  69  85\n",
      " 135  12 133  19  82 109  42  78  51 113 118  64 161  94  15  74  30  38\n",
      "   9  92  61  73  70 149  98 128  31  58  54 124 163  24  79 134  23  13\n",
      " 138 171 168  65  10 148 159 169 144 165  59  68  91 172  55 155  53  89\n",
      "  28  75 170 120  99 111  33 129 122 150 195 110 101 191 140 153 173 174\n",
      "  90 179 145 200 183 182  88 160 205 164  14 175 103 108 185 204 154 102\n",
      " 192 202 162 142  95 184 181 143 123 178 198 201 203 189 151 199 224 218] \n",
      "\n",
      "ZIP Code --- int64 \n",
      " [91107 90089 94720 94112 91330 92121 91711 93943 93023 94710 90277 93106\n",
      " 94920 91741 95054 95010 94305 91604 94015 90095 91320 95521 95064 90064\n",
      " 94539 94104 94117 94801 94035 92647 95814 94114 94115 92672 94122 90019\n",
      " 95616 94065 95014 91380 95747 92373 92093 94005 90245 95819 94022 90404\n",
      " 93407 94523 90024 91360 95670 95123 90045 91335 93907 92007 94606 94611\n",
      " 94901 92220 93305 95134 94612 92507 91730 94501 94303 94105 94550 92612\n",
      " 95617 92374 94080 94608 93555 93311 94704 92717 92037 95136 94542 94143\n",
      " 91775 92703 92354 92024 92831 92833 94304 90057 92130 91301 92096 92646\n",
      " 92182 92131 93720 90840 95035 93010 94928 95831 91770 90007 94102 91423\n",
      " 93955 94107 92834 93117 94551 94596 94025 94545 95053 90036 91125 95120\n",
      " 94706 95827 90503 90250 95817 95503 93111 94132 95818 91942 90401 93524\n",
      " 95133 92173 94043 92521 92122 93118 92697 94577 91345 94123 92152 91355\n",
      " 94609 94306 96150 94110 94707 91326 90291 92807 95051 94085 92677 92614\n",
      " 92626 94583 92103 92691 92407 90504 94002 95039 94063 94923 95023 90058\n",
      " 92126 94118 90029 92806 94806 92110 94536 90623 92069 92843 92120 95605\n",
      " 90740 91207 95929 93437 90630 90034 90266 95630 93657 92038 91304 92606\n",
      " 92192 90745 95060 94301 92692 92101 94610 90254 94590 92028 92054 92029\n",
      " 93105 91941 92346 94402 94618 94904  9307 95482 91709 91311 94509 92866\n",
      " 91745 94111 94309 90073 92333 90505 94998 94086 94709 95825 90509 93108\n",
      " 94588 91706 92109 92068 95841 92123 91342 90232 92634 91006 91768 90028\n",
      " 92008 95112 92154 92115 92177 90640 94607 92780 90009 92518 91007 93014\n",
      " 94024 90027 95207 90717 94534 94010 91614 94234 90210 95020 92870 92124\n",
      " 90049 94521 95678 95045 92653 92821 90025 92835 91910 94701 91129 90071\n",
      " 96651 94960 91902 90033 95621 90037 90005 93940 91109 93009 93561 95126\n",
      " 94109 93107 94591 92251 92648 92709 91754 92009 96064 91103 91030 90066\n",
      " 95403 91016 95348 91950 95822 94538 92056 93063 91040 92661 94061 95758\n",
      " 96091 94066 94939 95138 95762 92064 94708 92106 92116 91302 90048 90405\n",
      " 92325 91116 92868 90638 90747 93611 95833 91605 92675 90650 95820 90018\n",
      " 93711 95973 92886 95812 91203 91105 95008 90016 90035 92129 90720 94949\n",
      " 90041 95003 95192 91101 94126 90230 93101 91365 91367 91763 92660 92104\n",
      " 91361 90011 90032 95354 94546 92673 95741 95351 92399 90274 94087 90044\n",
      " 94131 94124 95032 90212 93109 94019 95828 90086 94555 93033 93022 91343\n",
      " 91911 94803 94553 95211 90304 92084 90601 92704 92350 94705 93401 90502\n",
      " 94571 95070 92735 95037 95135 94028 96003 91024 90065 95405 95370 93727\n",
      " 92867 95821 94566 95125 94526 94604 96008 93065 96001 95006 90639 92630\n",
      " 95307 91801 94302 91710 93950 90059 94108 94558 93933 92161 94507 94575\n",
      " 95449 93403 93460 95005 93302 94040 91401 95816 92624 95131 94965 91784\n",
      " 91765 90280 95422 95518 95193 92694 90275 90272 91791 92705 91773 93003\n",
      " 90755 96145 94703 96094 95842 94116 90068 94970 90813 94404 94598] \n",
      "\n",
      "Family --- int64 \n",
      " [4 3 1 2] \n",
      "\n",
      "CCAvg --- float64 \n",
      " [ 1.6         1.5         1.          2.7         0.4         0.3\n",
      "  0.6         8.9         2.4         0.1         3.8         2.5\n",
      "  2.          4.7         8.1         0.5         0.9         1.2\n",
      "  0.7         3.9         0.2         2.2         3.3         1.8\n",
      "  2.9         1.4         5.          2.3         1.1         5.7\n",
      "  4.5         2.1         8.          1.7         0.          2.8\n",
      "  3.5         4.          2.6         1.3         5.6         5.2\n",
      "  3.          4.6         3.6         7.2         1.75        7.4\n",
      "  2.66666667  7.5         6.5         7.8         7.9         4.1\n",
      "  1.9         4.3         6.8         5.1         3.1         0.8\n",
      "  3.7         6.2         0.75        2.33333333  4.9         0.66666667\n",
      "  3.2         5.5         6.9         4.33333333  7.3         4.2\n",
      "  4.4         6.1         6.33333333  6.6         5.3         3.4\n",
      "  7.          6.3         8.3         6.          1.66666667  8.6\n",
      "  7.6         6.4        10.          5.9         5.4         8.8\n",
      "  1.33333333  9.          6.7         4.25        6.66666667  5.8\n",
      "  4.8         3.25        5.66666667  8.5         4.75        4.66666667\n",
      "  3.66666667  8.2         3.33333333  5.33333333  9.3         2.75      ] \n",
      "\n",
      "Education --- int64 \n",
      " [1 2 3] \n",
      "\n",
      "Mortgage --- int64 \n",
      " [  0 155 104 134 111 260 163 159  97 122 193 198 285 412 153 211 207 240\n",
      " 455 112 336 132 118 174 126 236 166 136 309 103 366 101 251 276 161 149\n",
      " 188 116 135 244 164  81 315 140  95  89  90 105 100 282 209 249  91  98\n",
      " 145 150 169 280  99  78 264 113 117 325 121 138  77 158 109 131 391  88\n",
      " 129 196 617 123 167 190 248  82 402 360 392 185 419 270 148 466 175 147\n",
      " 220 133 182 290 125 124 224 141 119 139 115 458 172 156 547 470 304 221\n",
      " 108 179 271 378 176  76 314  87 203 180 230 137 152 485 300 272 144  94\n",
      " 208 275  83 218 327 322 205 227 239  85 160 364 449  75 107  92 187 355\n",
      " 106 587 214 307 263 310 127 252 170 265 177 305 372  79 301 232 289 212\n",
      " 250  84 130 303 256 259 204 524 157 231 287 247 333 229 357 361 294  86\n",
      " 329 142 184 442 233 215 394 475 197 228 297 128 241 437 178 428 162 234\n",
      " 257 219 337 382 397 181 120 380 200 433 222 483 154 171 146 110 201 277\n",
      " 268 237 102  93 354 195 194 238 226 318 342 266 114 245 341 421 359 565\n",
      " 319 151 267 601 567 352 284 199  80 334 389 186 246 589 242 143 323 535\n",
      " 293 398 343 255 311 446 223 262 422 192 217 168 299 505 400 165 183 326\n",
      " 298 569 374 216 191 408 406 452 432 312 477 396 582 358 213 467 331 295\n",
      " 235 635 385 328 522 496 415 461 344 206 368 321 296 373 292 383 427 189\n",
      " 202  96 429 431 286 508 210 416 553 403 225 500 313 410 273 381 330 345\n",
      " 253 258 351 353 308 278 464 509 243 173 481 281 306 577 302 405 571 581\n",
      " 550 283 612 590 541] \n",
      "\n",
      "Personal Loan --- int64 \n",
      " [0 1] \n",
      "\n",
      "Securities Account --- int64 \n",
      " [1 0] \n",
      "\n",
      "CD Account --- int64 \n",
      " [0 1] \n",
      "\n",
      "Online --- int64 \n",
      " [0 1] \n",
      "\n",
      "CreditCard --- int64 \n",
      " [0 1] \n",
      "\n"
     ]
    },
    {
     "data": {
      "text/plain": [
       "1.5"
      ]
     },
     "execution_count": 36,
     "metadata": {},
     "output_type": "execute_result"
    }
   ],
   "source": [
    "#we're further examining how the values in CCAvg are distributed \n",
    "for c in df.columns[:]:\n",
    "    unique_vals = df[c].unique()   #to see the unique values in CCAvg\n",
    "    print(c,\"---\",df[c].dtypes,\"\\n\",unique_vals,\"\\n\")  \n",
    "    \n",
    "df[\"CCAvg\"].max()\n",
    "df[\"CCAvg\"].min()\n",
    "df[\"CCAvg\"].median()  \n",
    "    "
   ]
  },
  {
   "cell_type": "code",
   "execution_count": 37,
   "id": "eacffdce",
   "metadata": {},
   "outputs": [
    {
     "data": {
      "image/png": "[encoded data removed]",
      "text/plain": [
       "<Figure size 936x576 with 2 Axes>"
      ]
     },
     "metadata": {},
     "output_type": "display_data"
    }
   ],
   "source": [
    "#let's analyse the different relationships between the variables through a correlation matrix\n",
    "CorrVar = [\"Income\", \"CCAvg\", \"Mortgage\", \"Education\", \"Age\", \n",
    "           \"Experience\", \"Family\", \"Personal Loan\", \"ZIP Code\"]\n",
    "\n",
    "corrMatrix = df[CorrVar].corr().apply(lambda x:round(x,3))\n",
    "plt.figure(figsize = (13,8))   #plotting correlation matrix\n",
    "ax = sns.heatmap(corrMatrix, annot = True , vmin = -1, vmax = 1, \n",
    "                 center = 0, cmap=\"YlGnBu\", linewidths=.5)   #choosing details\n",
    "ax.set_ylim([0,8])\n",
    "ax.set_yticklabels(\n",
    "    ax.get_yticklabels(),\n",
    "    rotation = 0,\n",
    "    horizontalalignment = 'right'    \n",
    ")\n",
    "plt.show();"
   ]
  },
  {
   "cell_type": "markdown",
   "id": "7dd1301a",
   "metadata": {},
   "source": [
    "* Intuitively, the correlation matrix above depicts a strong correlation between some features such as 'Income' and 'CCAvg'. The correlation between 'Experience' and 'Age' is also extremely high (0.99), but their respective correlation with our target feature 'Personal Loan' is close to zero: this tells us these variables are not going to bring any value to our modelling section later on (multicollinearity), so it is preferable to drop them afterwards in the data preprocessing.   \n",
    "Similarly, the variable ZIP Code doesn't seem to be useful as well (correlation with Personal Loan is zero). "
   ]
  },
  {
   "cell_type": "code",
   "execution_count": 38,
   "id": "ba200548",
   "metadata": {},
   "outputs": [
    {
     "data": {
      "text/plain": [
       "<seaborn.axisgrid.PairGrid at 0x7fc27a6755b0>"
      ]
     },
     "execution_count": 38,
     "metadata": {},
     "output_type": "execute_result"
    },
    {
     "data": {
      "image/png": "[encoded data removed]",
      "text/plain": [
       "<Figure size 625.8x540 with 12 Axes>"
      ]
     },
     "metadata": {},
     "output_type": "display_data"
    }
   ],
   "source": [
    "#let's confirm the correlations between Age, Experience, \n",
    "#Personal Loan, ZIP Code. \n",
    "sns.pairplot(df[['Age', 'Experience', 'Personal Loan', 'ZIP Code']], \n",
    "             hue = 'Personal Loan')"
   ]
  },
  {
   "cell_type": "markdown",
   "id": "d0073c68",
   "metadata": {},
   "source": [
    " \n",
    "Two things can be understood from these plots : \n",
    "\n",
    "* First, Age and Experience are highly correlated (see correlation matrix above - correlation of 99%) and the scatterplot of these two features is a line. \n",
    "* Second, for the features Age, Experience and ZIP Code, there seem to be no difference between the distribution of people who took personal loan and people who didn't. This shows how uncorrelated these features are to the target \"Personal Loan\" and these features shoudld therefore be dropped."
   ]
  },
  {
   "cell_type": "markdown",
   "id": "a58b536f",
   "metadata": {},
   "source": [
    "## Feature Engineering"
   ]
  },
  {
   "cell_type": "markdown",
   "id": "b654b254",
   "metadata": {},
   "source": [
    "Given the distribution of the credit card monthly spending ('CCAvg'), it is safe to classify its data into 4 categories (bins) that we'll then compare analyse in the feature engineering. "
   ]
  },
  {
   "cell_type": "markdown",
   "id": "5e74a61a",
   "metadata": {},
   "source": [
    "#### Binning CCAvg by quartiles and Education by categories"
   ]
  },
  {
   "cell_type": "code",
   "execution_count": 39,
   "id": "01cdff8f",
   "metadata": {},
   "outputs": [
    {
     "data": {
      "text/html": [
       "<div>\n",
       "<style scoped>\n",
       "    .dataframe tbody tr th:only-of-type {\n",
       "        vertical-align: middle;\n",
       "    }\n",
       "\n",
       "    .dataframe tbody tr th {\n",
       "        vertical-align: top;\n",
       "    }\n",
       "\n",
       "    .dataframe thead th {\n",
       "        text-align: right;\n",
       "    }\n",
       "</style>\n",
       "<table border=\"1\" class=\"dataframe\">\n",
       "  <thead>\n",
       "    <tr style=\"text-align: right;\">\n",
       "      <th></th>\n",
       "      <th>ID</th>\n",
       "      <th>Age</th>\n",
       "      <th>Experience</th>\n",
       "      <th>Income</th>\n",
       "      <th>ZIP Code</th>\n",
       "      <th>Family</th>\n",
       "      <th>CCAvg</th>\n",
       "      <th>Education</th>\n",
       "      <th>Mortgage</th>\n",
       "      <th>Personal Loan</th>\n",
       "      <th>Securities Account</th>\n",
       "      <th>CD Account</th>\n",
       "      <th>Online</th>\n",
       "      <th>CreditCard</th>\n",
       "    </tr>\n",
       "  </thead>\n",
       "  <tbody>\n",
       "    <tr>\n",
       "      <th>count</th>\n",
       "      <td>5000.000000</td>\n",
       "      <td>5000.000000</td>\n",
       "      <td>5000.000000</td>\n",
       "      <td>5000.000000</td>\n",
       "      <td>5000.000000</td>\n",
       "      <td>5000.000000</td>\n",
       "      <td>5000.000000</td>\n",
       "      <td>5000.000000</td>\n",
       "      <td>5000.000000</td>\n",
       "      <td>5000.000000</td>\n",
       "      <td>5000.000000</td>\n",
       "      <td>5000.00000</td>\n",
       "      <td>5000.000000</td>\n",
       "      <td>5000.000000</td>\n",
       "    </tr>\n",
       "    <tr>\n",
       "      <th>mean</th>\n",
       "      <td>2500.500000</td>\n",
       "      <td>45.338400</td>\n",
       "      <td>20.104600</td>\n",
       "      <td>73.774200</td>\n",
       "      <td>93152.503000</td>\n",
       "      <td>2.396400</td>\n",
       "      <td>1.937913</td>\n",
       "      <td>1.881000</td>\n",
       "      <td>56.498800</td>\n",
       "      <td>0.096000</td>\n",
       "      <td>0.104400</td>\n",
       "      <td>0.06040</td>\n",
       "      <td>0.596800</td>\n",
       "      <td>0.294000</td>\n",
       "    </tr>\n",
       "    <tr>\n",
       "      <th>std</th>\n",
       "      <td>1443.520003</td>\n",
       "      <td>11.463166</td>\n",
       "      <td>11.467954</td>\n",
       "      <td>46.033729</td>\n",
       "      <td>2121.852197</td>\n",
       "      <td>1.147663</td>\n",
       "      <td>1.747666</td>\n",
       "      <td>0.839869</td>\n",
       "      <td>101.713802</td>\n",
       "      <td>0.294621</td>\n",
       "      <td>0.305809</td>\n",
       "      <td>0.23825</td>\n",
       "      <td>0.490589</td>\n",
       "      <td>0.455637</td>\n",
       "    </tr>\n",
       "    <tr>\n",
       "      <th>min</th>\n",
       "      <td>1.000000</td>\n",
       "      <td>23.000000</td>\n",
       "      <td>-3.000000</td>\n",
       "      <td>8.000000</td>\n",
       "      <td>9307.000000</td>\n",
       "      <td>1.000000</td>\n",
       "      <td>0.000000</td>\n",
       "      <td>1.000000</td>\n",
       "      <td>0.000000</td>\n",
       "      <td>0.000000</td>\n",
       "      <td>0.000000</td>\n",
       "      <td>0.00000</td>\n",
       "      <td>0.000000</td>\n",
       "      <td>0.000000</td>\n",
       "    </tr>\n",
       "    <tr>\n",
       "      <th>25%</th>\n",
       "      <td>1250.750000</td>\n",
       "      <td>35.000000</td>\n",
       "      <td>10.000000</td>\n",
       "      <td>39.000000</td>\n",
       "      <td>91911.000000</td>\n",
       "      <td>1.000000</td>\n",
       "      <td>0.700000</td>\n",
       "      <td>1.000000</td>\n",
       "      <td>0.000000</td>\n",
       "      <td>0.000000</td>\n",
       "      <td>0.000000</td>\n",
       "      <td>0.00000</td>\n",
       "      <td>0.000000</td>\n",
       "      <td>0.000000</td>\n",
       "    </tr>\n",
       "    <tr>\n",
       "      <th>50%</th>\n",
       "      <td>2500.500000</td>\n",
       "      <td>45.000000</td>\n",
       "      <td>20.000000</td>\n",
       "      <td>64.000000</td>\n",
       "      <td>93437.000000</td>\n",
       "      <td>2.000000</td>\n",
       "      <td>1.500000</td>\n",
       "      <td>2.000000</td>\n",
       "      <td>0.000000</td>\n",
       "      <td>0.000000</td>\n",
       "      <td>0.000000</td>\n",
       "      <td>0.00000</td>\n",
       "      <td>1.000000</td>\n",
       "      <td>0.000000</td>\n",
       "    </tr>\n",
       "    <tr>\n",
       "      <th>75%</th>\n",
       "      <td>3750.250000</td>\n",
       "      <td>55.000000</td>\n",
       "      <td>30.000000</td>\n",
       "      <td>98.000000</td>\n",
       "      <td>94608.000000</td>\n",
       "      <td>3.000000</td>\n",
       "      <td>2.500000</td>\n",
       "      <td>3.000000</td>\n",
       "      <td>101.000000</td>\n",
       "      <td>0.000000</td>\n",
       "      <td>0.000000</td>\n",
       "      <td>0.00000</td>\n",
       "      <td>1.000000</td>\n",
       "      <td>1.000000</td>\n",
       "    </tr>\n",
       "    <tr>\n",
       "      <th>max</th>\n",
       "      <td>5000.000000</td>\n",
       "      <td>67.000000</td>\n",
       "      <td>43.000000</td>\n",
       "      <td>224.000000</td>\n",
       "      <td>96651.000000</td>\n",
       "      <td>4.000000</td>\n",
       "      <td>10.000000</td>\n",
       "      <td>3.000000</td>\n",
       "      <td>635.000000</td>\n",
       "      <td>1.000000</td>\n",
       "      <td>1.000000</td>\n",
       "      <td>1.00000</td>\n",
       "      <td>1.000000</td>\n",
       "      <td>1.000000</td>\n",
       "    </tr>\n",
       "  </tbody>\n",
       "</table>\n",
       "</div>"
      ],
      "text/plain": [
       "                ID          Age   Experience       Income      ZIP Code  \\\n",
       "count  5000.000000  5000.000000  5000.000000  5000.000000   5000.000000   \n",
       "mean   2500.500000    45.338400    20.104600    73.774200  93152.503000   \n",
       "std    1443.520003    11.463166    11.467954    46.033729   2121.852197   \n",
       "min       1.000000    23.000000    -3.000000     8.000000   9307.000000   \n",
       "25%    1250.750000    35.000000    10.000000    39.000000  91911.000000   \n",
       "50%    2500.500000    45.000000    20.000000    64.000000  93437.000000   \n",
       "75%    3750.250000    55.000000    30.000000    98.000000  94608.000000   \n",
       "max    5000.000000    67.000000    43.000000   224.000000  96651.000000   \n",
       "\n",
       "            Family        CCAvg    Education     Mortgage  Personal Loan  \\\n",
       "count  5000.000000  5000.000000  5000.000000  5000.000000    5000.000000   \n",
       "mean      2.396400     1.937913     1.881000    56.498800       0.096000   \n",
       "std       1.147663     1.747666     0.839869   101.713802       0.294621   \n",
       "min       1.000000     0.000000     1.000000     0.000000       0.000000   \n",
       "25%       1.000000     0.700000     1.000000     0.000000       0.000000   \n",
       "50%       2.000000     1.500000     2.000000     0.000000       0.000000   \n",
       "75%       3.000000     2.500000     3.000000   101.000000       0.000000   \n",
       "max       4.000000    10.000000     3.000000   635.000000       1.000000   \n",
       "\n",
       "       Securities Account  CD Account       Online   CreditCard  \n",
       "count         5000.000000  5000.00000  5000.000000  5000.000000  \n",
       "mean             0.104400     0.06040     0.596800     0.294000  \n",
       "std              0.305809     0.23825     0.490589     0.455637  \n",
       "min              0.000000     0.00000     0.000000     0.000000  \n",
       "25%              0.000000     0.00000     0.000000     0.000000  \n",
       "50%              0.000000     0.00000     1.000000     0.000000  \n",
       "75%              0.000000     0.00000     1.000000     1.000000  \n",
       "max              1.000000     1.00000     1.000000     1.000000  "
      ]
     },
     "execution_count": 39,
     "metadata": {},
     "output_type": "execute_result"
    }
   ],
   "source": [
    "df.describe()"
   ]
  },
  {
   "cell_type": "code",
   "execution_count": 66,
   "id": "ba5920b9",
   "metadata": {},
   "outputs": [],
   "source": [
    "#creating four bins for the 4 tiers of spenders in CCAvg\n",
    "def divide_into_quartiles(x):\n",
    "    if x < 0.7:\n",
    "        return 0\n",
    "    elif x >= 0.7 and x < 1.5:\n",
    "        return 1\n",
    "    elif x >= 1.5 and x < 2.5:\n",
    "        return 2\n",
    "    else: \n",
    "        return 3"
   ]
  },
  {
   "cell_type": "code",
   "execution_count": 67,
   "id": "71995de1",
   "metadata": {},
   "outputs": [],
   "source": [
    "#applying our new CCAvg bins to a modified dataset called df_engineered\n",
    "df_engineered = df.copy()\n",
    "df_engineered['CCAvg'] = df_engineered['CCAvg'].apply(divide_into_quartiles)"
   ]
  },
  {
   "cell_type": "code",
   "execution_count": 49,
   "id": "8dc69666",
   "metadata": {},
   "outputs": [
    {
     "data": {
      "text/html": [
       "<div>\n",
       "<style scoped>\n",
       "    .dataframe tbody tr th:only-of-type {\n",
       "        vertical-align: middle;\n",
       "    }\n",
       "\n",
       "    .dataframe tbody tr th {\n",
       "        vertical-align: top;\n",
       "    }\n",
       "\n",
       "    .dataframe thead th {\n",
       "        text-align: right;\n",
       "    }\n",
       "</style>\n",
       "<table border=\"1\" class=\"dataframe\">\n",
       "  <thead>\n",
       "    <tr style=\"text-align: right;\">\n",
       "      <th></th>\n",
       "      <th>ID</th>\n",
       "      <th>Age</th>\n",
       "      <th>Experience</th>\n",
       "      <th>Income</th>\n",
       "      <th>ZIP Code</th>\n",
       "      <th>Family</th>\n",
       "      <th>CCAvg</th>\n",
       "      <th>Education</th>\n",
       "      <th>Mortgage</th>\n",
       "      <th>Personal Loan</th>\n",
       "      <th>Securities Account</th>\n",
       "      <th>CD Account</th>\n",
       "      <th>Online</th>\n",
       "      <th>CreditCard</th>\n",
       "    </tr>\n",
       "  </thead>\n",
       "  <tbody>\n",
       "    <tr>\n",
       "      <th>0</th>\n",
       "      <td>1</td>\n",
       "      <td>25</td>\n",
       "      <td>1</td>\n",
       "      <td>49</td>\n",
       "      <td>91107</td>\n",
       "      <td>4</td>\n",
       "      <td>1.6</td>\n",
       "      <td>1</td>\n",
       "      <td>0</td>\n",
       "      <td>0</td>\n",
       "      <td>1</td>\n",
       "      <td>0</td>\n",
       "      <td>0</td>\n",
       "      <td>0</td>\n",
       "    </tr>\n",
       "    <tr>\n",
       "      <th>1</th>\n",
       "      <td>2</td>\n",
       "      <td>45</td>\n",
       "      <td>19</td>\n",
       "      <td>34</td>\n",
       "      <td>90089</td>\n",
       "      <td>3</td>\n",
       "      <td>1.5</td>\n",
       "      <td>1</td>\n",
       "      <td>0</td>\n",
       "      <td>0</td>\n",
       "      <td>1</td>\n",
       "      <td>0</td>\n",
       "      <td>0</td>\n",
       "      <td>0</td>\n",
       "    </tr>\n",
       "    <tr>\n",
       "      <th>2</th>\n",
       "      <td>3</td>\n",
       "      <td>39</td>\n",
       "      <td>15</td>\n",
       "      <td>11</td>\n",
       "      <td>94720</td>\n",
       "      <td>1</td>\n",
       "      <td>1.0</td>\n",
       "      <td>1</td>\n",
       "      <td>0</td>\n",
       "      <td>0</td>\n",
       "      <td>0</td>\n",
       "      <td>0</td>\n",
       "      <td>0</td>\n",
       "      <td>0</td>\n",
       "    </tr>\n",
       "    <tr>\n",
       "      <th>3</th>\n",
       "      <td>4</td>\n",
       "      <td>35</td>\n",
       "      <td>9</td>\n",
       "      <td>100</td>\n",
       "      <td>94112</td>\n",
       "      <td>1</td>\n",
       "      <td>2.7</td>\n",
       "      <td>2</td>\n",
       "      <td>0</td>\n",
       "      <td>0</td>\n",
       "      <td>0</td>\n",
       "      <td>0</td>\n",
       "      <td>0</td>\n",
       "      <td>0</td>\n",
       "    </tr>\n",
       "    <tr>\n",
       "      <th>4</th>\n",
       "      <td>5</td>\n",
       "      <td>35</td>\n",
       "      <td>8</td>\n",
       "      <td>45</td>\n",
       "      <td>91330</td>\n",
       "      <td>4</td>\n",
       "      <td>1.0</td>\n",
       "      <td>2</td>\n",
       "      <td>0</td>\n",
       "      <td>0</td>\n",
       "      <td>0</td>\n",
       "      <td>0</td>\n",
       "      <td>0</td>\n",
       "      <td>1</td>\n",
       "    </tr>\n",
       "  </tbody>\n",
       "</table>\n",
       "</div>"
      ],
      "text/plain": [
       "   ID  Age  Experience  Income  ZIP Code  Family  CCAvg  Education  Mortgage  \\\n",
       "0   1   25           1      49     91107       4    1.6          1         0   \n",
       "1   2   45          19      34     90089       3    1.5          1         0   \n",
       "2   3   39          15      11     94720       1    1.0          1         0   \n",
       "3   4   35           9     100     94112       1    2.7          2         0   \n",
       "4   5   35           8      45     91330       4    1.0          2         0   \n",
       "\n",
       "   Personal Loan  Securities Account  CD Account  Online  CreditCard  \n",
       "0              0                   1           0       0           0  \n",
       "1              0                   1           0       0           0  \n",
       "2              0                   0           0       0           0  \n",
       "3              0                   0           0       0           0  \n",
       "4              0                   0           0       0           1  "
      ]
     },
     "execution_count": 49,
     "metadata": {},
     "output_type": "execute_result"
    }
   ],
   "source": [
    "df.head()\n",
    "#based on this and the unique values in Education, \n",
    "#we also know the three different education levels"
   ]
  },
  {
   "cell_type": "code",
   "execution_count": 51,
   "id": "9a40e5cf",
   "metadata": {},
   "outputs": [],
   "source": [
    "def divide_into_categories(x):\n",
    "    if x == 1:\n",
    "        return 'Undergraduate'\n",
    "    elif x == 2:\n",
    "        return 'Graduate'\n",
    "    else: \n",
    "        return 'Advanced/Professional'"
   ]
  },
  {
   "cell_type": "code",
   "execution_count": 52,
   "id": "f17cf12b",
   "metadata": {},
   "outputs": [],
   "source": [
    "#applying our new Education bins to a modified dataset called df_engineered\n",
    "df_engineered = df.copy()\n",
    "df_engineered['Education'] = df_engineered['Education'].apply(divide_into_categories)"
   ]
  },
  {
   "cell_type": "code",
   "execution_count": 68,
   "id": "f70884ec",
   "metadata": {
    "scrolled": false
   },
   "outputs": [
    {
     "data": {
      "text/html": [
       "<div>\n",
       "<style scoped>\n",
       "    .dataframe tbody tr th:only-of-type {\n",
       "        vertical-align: middle;\n",
       "    }\n",
       "\n",
       "    .dataframe tbody tr th {\n",
       "        vertical-align: top;\n",
       "    }\n",
       "\n",
       "    .dataframe thead th {\n",
       "        text-align: right;\n",
       "    }\n",
       "</style>\n",
       "<table border=\"1\" class=\"dataframe\">\n",
       "  <thead>\n",
       "    <tr style=\"text-align: right;\">\n",
       "      <th></th>\n",
       "      <th>ID</th>\n",
       "      <th>Age</th>\n",
       "      <th>Experience</th>\n",
       "      <th>Income</th>\n",
       "      <th>ZIP Code</th>\n",
       "      <th>Family</th>\n",
       "      <th>CCAvg</th>\n",
       "      <th>Education</th>\n",
       "      <th>Mortgage</th>\n",
       "      <th>Personal Loan</th>\n",
       "      <th>Securities Account</th>\n",
       "      <th>CD Account</th>\n",
       "      <th>Online</th>\n",
       "      <th>CreditCard</th>\n",
       "    </tr>\n",
       "  </thead>\n",
       "  <tbody>\n",
       "    <tr>\n",
       "      <th>0</th>\n",
       "      <td>1</td>\n",
       "      <td>25</td>\n",
       "      <td>1</td>\n",
       "      <td>49</td>\n",
       "      <td>91107</td>\n",
       "      <td>4</td>\n",
       "      <td>2</td>\n",
       "      <td>1</td>\n",
       "      <td>0</td>\n",
       "      <td>0</td>\n",
       "      <td>1</td>\n",
       "      <td>0</td>\n",
       "      <td>0</td>\n",
       "      <td>0</td>\n",
       "    </tr>\n",
       "    <tr>\n",
       "      <th>1</th>\n",
       "      <td>2</td>\n",
       "      <td>45</td>\n",
       "      <td>19</td>\n",
       "      <td>34</td>\n",
       "      <td>90089</td>\n",
       "      <td>3</td>\n",
       "      <td>2</td>\n",
       "      <td>1</td>\n",
       "      <td>0</td>\n",
       "      <td>0</td>\n",
       "      <td>1</td>\n",
       "      <td>0</td>\n",
       "      <td>0</td>\n",
       "      <td>0</td>\n",
       "    </tr>\n",
       "    <tr>\n",
       "      <th>2</th>\n",
       "      <td>3</td>\n",
       "      <td>39</td>\n",
       "      <td>15</td>\n",
       "      <td>11</td>\n",
       "      <td>94720</td>\n",
       "      <td>1</td>\n",
       "      <td>1</td>\n",
       "      <td>1</td>\n",
       "      <td>0</td>\n",
       "      <td>0</td>\n",
       "      <td>0</td>\n",
       "      <td>0</td>\n",
       "      <td>0</td>\n",
       "      <td>0</td>\n",
       "    </tr>\n",
       "    <tr>\n",
       "      <th>3</th>\n",
       "      <td>4</td>\n",
       "      <td>35</td>\n",
       "      <td>9</td>\n",
       "      <td>100</td>\n",
       "      <td>94112</td>\n",
       "      <td>1</td>\n",
       "      <td>3</td>\n",
       "      <td>2</td>\n",
       "      <td>0</td>\n",
       "      <td>0</td>\n",
       "      <td>0</td>\n",
       "      <td>0</td>\n",
       "      <td>0</td>\n",
       "      <td>0</td>\n",
       "    </tr>\n",
       "    <tr>\n",
       "      <th>4</th>\n",
       "      <td>5</td>\n",
       "      <td>35</td>\n",
       "      <td>8</td>\n",
       "      <td>45</td>\n",
       "      <td>91330</td>\n",
       "      <td>4</td>\n",
       "      <td>1</td>\n",
       "      <td>2</td>\n",
       "      <td>0</td>\n",
       "      <td>0</td>\n",
       "      <td>0</td>\n",
       "      <td>0</td>\n",
       "      <td>0</td>\n",
       "      <td>1</td>\n",
       "    </tr>\n",
       "    <tr>\n",
       "      <th>...</th>\n",
       "      <td>...</td>\n",
       "      <td>...</td>\n",
       "      <td>...</td>\n",
       "      <td>...</td>\n",
       "      <td>...</td>\n",
       "      <td>...</td>\n",
       "      <td>...</td>\n",
       "      <td>...</td>\n",
       "      <td>...</td>\n",
       "      <td>...</td>\n",
       "      <td>...</td>\n",
       "      <td>...</td>\n",
       "      <td>...</td>\n",
       "      <td>...</td>\n",
       "    </tr>\n",
       "    <tr>\n",
       "      <th>4995</th>\n",
       "      <td>4996</td>\n",
       "      <td>29</td>\n",
       "      <td>3</td>\n",
       "      <td>40</td>\n",
       "      <td>92697</td>\n",
       "      <td>1</td>\n",
       "      <td>2</td>\n",
       "      <td>3</td>\n",
       "      <td>0</td>\n",
       "      <td>0</td>\n",
       "      <td>0</td>\n",
       "      <td>0</td>\n",
       "      <td>1</td>\n",
       "      <td>0</td>\n",
       "    </tr>\n",
       "    <tr>\n",
       "      <th>4996</th>\n",
       "      <td>4997</td>\n",
       "      <td>30</td>\n",
       "      <td>4</td>\n",
       "      <td>15</td>\n",
       "      <td>92037</td>\n",
       "      <td>4</td>\n",
       "      <td>0</td>\n",
       "      <td>1</td>\n",
       "      <td>85</td>\n",
       "      <td>0</td>\n",
       "      <td>0</td>\n",
       "      <td>0</td>\n",
       "      <td>1</td>\n",
       "      <td>0</td>\n",
       "    </tr>\n",
       "    <tr>\n",
       "      <th>4997</th>\n",
       "      <td>4998</td>\n",
       "      <td>63</td>\n",
       "      <td>39</td>\n",
       "      <td>24</td>\n",
       "      <td>93023</td>\n",
       "      <td>2</td>\n",
       "      <td>0</td>\n",
       "      <td>3</td>\n",
       "      <td>0</td>\n",
       "      <td>0</td>\n",
       "      <td>0</td>\n",
       "      <td>0</td>\n",
       "      <td>0</td>\n",
       "      <td>0</td>\n",
       "    </tr>\n",
       "    <tr>\n",
       "      <th>4998</th>\n",
       "      <td>4999</td>\n",
       "      <td>65</td>\n",
       "      <td>40</td>\n",
       "      <td>49</td>\n",
       "      <td>90034</td>\n",
       "      <td>3</td>\n",
       "      <td>0</td>\n",
       "      <td>2</td>\n",
       "      <td>0</td>\n",
       "      <td>0</td>\n",
       "      <td>0</td>\n",
       "      <td>0</td>\n",
       "      <td>1</td>\n",
       "      <td>0</td>\n",
       "    </tr>\n",
       "    <tr>\n",
       "      <th>4999</th>\n",
       "      <td>5000</td>\n",
       "      <td>28</td>\n",
       "      <td>4</td>\n",
       "      <td>83</td>\n",
       "      <td>92612</td>\n",
       "      <td>3</td>\n",
       "      <td>1</td>\n",
       "      <td>1</td>\n",
       "      <td>0</td>\n",
       "      <td>0</td>\n",
       "      <td>0</td>\n",
       "      <td>0</td>\n",
       "      <td>1</td>\n",
       "      <td>1</td>\n",
       "    </tr>\n",
       "  </tbody>\n",
       "</table>\n",
       "<p>5000 rows × 14 columns</p>\n",
       "</div>"
      ],
      "text/plain": [
       "        ID  Age  Experience  Income  ZIP Code  Family  CCAvg  Education  \\\n",
       "0        1   25           1      49     91107       4      2          1   \n",
       "1        2   45          19      34     90089       3      2          1   \n",
       "2        3   39          15      11     94720       1      1          1   \n",
       "3        4   35           9     100     94112       1      3          2   \n",
       "4        5   35           8      45     91330       4      1          2   \n",
       "...    ...  ...         ...     ...       ...     ...    ...        ...   \n",
       "4995  4996   29           3      40     92697       1      2          3   \n",
       "4996  4997   30           4      15     92037       4      0          1   \n",
       "4997  4998   63          39      24     93023       2      0          3   \n",
       "4998  4999   65          40      49     90034       3      0          2   \n",
       "4999  5000   28           4      83     92612       3      1          1   \n",
       "\n",
       "      Mortgage  Personal Loan  Securities Account  CD Account  Online  \\\n",
       "0            0              0                   1           0       0   \n",
       "1            0              0                   1           0       0   \n",
       "2            0              0                   0           0       0   \n",
       "3            0              0                   0           0       0   \n",
       "4            0              0                   0           0       0   \n",
       "...        ...            ...                 ...         ...     ...   \n",
       "4995         0              0                   0           0       1   \n",
       "4996        85              0                   0           0       1   \n",
       "4997         0              0                   0           0       0   \n",
       "4998         0              0                   0           0       1   \n",
       "4999         0              0                   0           0       1   \n",
       "\n",
       "      CreditCard  \n",
       "0              0  \n",
       "1              0  \n",
       "2              0  \n",
       "3              0  \n",
       "4              1  \n",
       "...          ...  \n",
       "4995           0  \n",
       "4996           0  \n",
       "4997           0  \n",
       "4998           0  \n",
       "4999           1  \n",
       "\n",
       "[5000 rows x 14 columns]"
      ]
     },
     "execution_count": 68,
     "metadata": {},
     "output_type": "execute_result"
    }
   ],
   "source": [
    "df_engineered"
   ]
  },
  {
   "cell_type": "code",
   "execution_count": 133,
   "id": "e010fec5",
   "metadata": {},
   "outputs": [
    {
     "data": {
      "image/png": "[encoded data removed]",
      "text/plain": [
       "<Figure size 720x720 with 1 Axes>"
      ]
     },
     "metadata": {},
     "output_type": "display_data"
    }
   ],
   "source": [
    "#let's look at how much clients at Thera Bank spend per month\n",
    "\n",
    "\n",
    "pie =df_engineered.groupby(by=[\"CCAvg\"]).size().reset_index(name=\"counts\")\n",
    "pie= pie.nlargest(11,['counts'])\n",
    "plt.figure(figsize=(10,10))\n",
    "plt.pie(x=pie['counts'],labels=pie['CCAvg'],autopct='%1.1f%%')\n",
    "plt.title('Percentage Distribution of four categories of spenders per month')\n",
    "plt.show()"
   ]
  },
  {
   "cell_type": "markdown",
   "id": "688a470d",
   "metadata": {},
   "source": [
    "From the graph above, it seems that Thera Bank's customers are equally distributed in terms of spending levels. "
   ]
  },
  {
   "cell_type": "code",
   "execution_count": 62,
   "id": "2977df96",
   "metadata": {},
   "outputs": [
    {
     "data": {
      "image/png": "[encoded data removed]",
      "text/plain": [
       "<Figure size 432x288 with 1 Axes>"
      ]
     },
     "metadata": {},
     "output_type": "display_data"
    }
   ],
   "source": [
    "ax = sns.barplot(x=\"CCAvg\", y=\"Education\", hue=\"Personal Loan\", \n",
    "                 data=df_engineered, palette = \"Blues\")"
   ]
  },
  {
   "cell_type": "markdown",
   "id": "84070bb2",
   "metadata": {},
   "source": [
    "It seems that the more someone is educated and spends money, the more chance they have of taking a Personal Loan, and vice-versa. "
   ]
  },
  {
   "cell_type": "markdown",
   "id": "536a4fad",
   "metadata": {},
   "source": [
    "### Taking out non relevant features - Age/Experience"
   ]
  },
  {
   "cell_type": "code",
   "execution_count": 72,
   "id": "61363f4f",
   "metadata": {},
   "outputs": [],
   "source": [
    "df_engineered = df_engineered.drop(['Age', 'Experience', 'ID', 'ZIP Code'], axis = 1)"
   ]
  },
  {
   "cell_type": "markdown",
   "id": "d0f1966a",
   "metadata": {},
   "source": [
    "## Modelling"
   ]
  },
  {
   "cell_type": "markdown",
   "id": "d97e45ae",
   "metadata": {},
   "source": [
    "### Simple train_test_split"
   ]
  },
  {
   "cell_type": "code",
   "execution_count": 73,
   "id": "dae7046f",
   "metadata": {},
   "outputs": [],
   "source": [
    "X= df.drop('Personal Loan',axis = 1)\n",
    "y= df['Personal Loan']\n",
    "X_train, X_test, y_train, y_test = train_test_split(X, y, test_size = 0.2, \n",
    "                                                    random_state = 5)"
   ]
  },
  {
   "cell_type": "code",
   "execution_count": 74,
   "id": "3ff346b3",
   "metadata": {},
   "outputs": [
    {
     "name": "stdout",
     "output_type": "stream",
     "text": [
      "KNeighbors' prediction accuracy is 0.913 and AUC score is 0.6187512460127591.\n"
     ]
    }
   ],
   "source": [
    "clf = KNeighborsClassifier()\n",
    "clf.fit(X_train, y_train)\n",
    "probs = clf.predict_proba(X_test)[:, 1]\n",
    "auc = roc_auc_score(y_test, probs)\n",
    "y_pred = clf.predict(X_test)\n",
    "acc = accuracy_score(y_test, y_pred)\n",
    "print(\"KNeighbors' prediction accuracy is {} and AUC score is {}.\".format(acc, auc))"
   ]
  },
  {
   "cell_type": "code",
   "execution_count": 75,
   "id": "ad97bf0a",
   "metadata": {},
   "outputs": [
    {
     "name": "stdout",
     "output_type": "stream",
     "text": [
      "XGBoost's prediction accuracy is 0.986 and AUC score is 0.996012759170654.\n"
     ]
    }
   ],
   "source": [
    "clf = XGBClassifier()\n",
    "clf.fit(X_train, y_train, eval_metric=[\"auc\"])\n",
    "probs = clf.predict_proba(X_test)[:, 1]\n",
    "auc = roc_auc_score(y_test, probs)\n",
    "y_pred = clf.predict(X_test)\n",
    "acc = accuracy_score(y_test, y_pred)\n",
    "print(\"XGBoost's prediction accuracy is {} and AUC score is {}.\".\n",
    "      format(acc, auc))"
   ]
  },
  {
   "cell_type": "code",
   "execution_count": 76,
   "id": "28934c0e",
   "metadata": {},
   "outputs": [
    {
     "data": {
      "text/plain": [
       "0    4520\n",
       "1     480\n",
       "Name: Personal Loan, dtype: int64"
      ]
     },
     "execution_count": 76,
     "metadata": {},
     "output_type": "execute_result"
    }
   ],
   "source": [
    "df[\"Personal Loan\"].value_counts()"
   ]
  },
  {
   "cell_type": "markdown",
   "id": "cd64e393",
   "metadata": {},
   "source": [
    "After value counting the target feature Personal Loan, we can see the dataset is heavily imbalanced. Hence the  accuracy score is not the most appropriate score to use in order to determine the best classifier, that's why we also used the AUC Score."
   ]
  },
  {
   "cell_type": "code",
   "execution_count": 77,
   "id": "c5207261",
   "metadata": {
    "scrolled": true
   },
   "outputs": [
    {
     "data": {
      "text/plain": [
       "[<matplotlib.lines.Line2D at 0x7fc27d6e4f10>]"
      ]
     },
     "execution_count": 77,
     "metadata": {},
     "output_type": "execute_result"
    },
    {
     "data": {
      "image/png": "[encoded data removed]",
      "text/plain": [
       "<Figure size 432x288 with 1 Axes>"
      ]
     },
     "metadata": {},
     "output_type": "display_data"
    }
   ],
   "source": [
    "ns_fpr, ns_tpr, _ = roc_curve(y_test, probs)\n",
    "plt.plot(ns_fpr, ns_tpr, linestyle='--', label='ROC')"
   ]
  },
  {
   "cell_type": "code",
   "execution_count": 78,
   "id": "42600b95",
   "metadata": {},
   "outputs": [
    {
     "data": {
      "text/plain": [
       "<AxesSubplot:>"
      ]
     },
     "execution_count": 78,
     "metadata": {},
     "output_type": "execute_result"
    },
    {
     "data": {
      "image/png": "[encoded data removed]",
      "text/plain": [
       "<Figure size 432x288 with 2 Axes>"
      ]
     },
     "metadata": {},
     "output_type": "display_data"
    }
   ],
   "source": [
    "cf_matrix = confusion_matrix(y_test, y_pred)\n",
    "sns.heatmap(cf_matrix, annot=True, cmap='Blues')"
   ]
  },
  {
   "cell_type": "code",
   "execution_count": 79,
   "id": "a68da7fd",
   "metadata": {},
   "outputs": [
    {
     "name": "stdout",
     "output_type": "stream",
     "text": [
      "RandomForest's prediction accuracy is 0.992 and AUC score is 0.9957822468102073.\n"
     ]
    }
   ],
   "source": [
    "clf = RandomForestClassifier()\n",
    "clf.fit(X_train, y_train)\n",
    "probs = clf.predict_proba(X_test)[:, 1]\n",
    "auc = roc_auc_score(y_test, probs)\n",
    "y_pred = clf.predict(X_test)\n",
    "y_pred = clf.predict(X_test)\n",
    "acc = accuracy_score(y_test, y_pred)\n",
    "print(\"RandomForest's prediction accuracy is {} and AUC score is {}.\".\n",
    "      format(acc, auc))"
   ]
  },
  {
   "cell_type": "code",
   "execution_count": 80,
   "id": "b1bcd98c",
   "metadata": {},
   "outputs": [
    {
     "data": {
      "text/plain": [
       "<AxesSubplot:>"
      ]
     },
     "execution_count": 80,
     "metadata": {},
     "output_type": "execute_result"
    },
    {
     "data": {
      "image/png": "[encoded data removed]",
      "text/plain": [
       "<Figure size 432x288 with 2 Axes>"
      ]
     },
     "metadata": {},
     "output_type": "display_data"
    }
   ],
   "source": [
    "cf_matrix = confusion_matrix(y_test, y_pred)\n",
    "sns.heatmap(cf_matrix, annot=True, cmap='Blues')"
   ]
  },
  {
   "cell_type": "code",
   "execution_count": 81,
   "id": "56070167",
   "metadata": {},
   "outputs": [
    {
     "name": "stdout",
     "output_type": "stream",
     "text": [
      "ExtraTrees's prediction accuracy is 0.98 and AUC score is 0.9880008971291867.\n"
     ]
    }
   ],
   "source": [
    "clf = ExtraTreesClassifier()\n",
    "clf.fit(X_train, y_train)\n",
    "probs = clf.predict_proba(X_test)[:, 1]\n",
    "auc = roc_auc_score(y_test, probs)\n",
    "y_pred = clf.predict(X_test)\n",
    "acc = accuracy_score(y_test, y_pred)\n",
    "print(\"ExtraTrees's prediction accuracy is {} and AUC score is {}.\".\n",
    "      format(acc, auc))"
   ]
  },
  {
   "cell_type": "code",
   "execution_count": 82,
   "id": "26abd883",
   "metadata": {},
   "outputs": [
    {
     "data": {
      "text/plain": [
       "<AxesSubplot:>"
      ]
     },
     "execution_count": 82,
     "metadata": {},
     "output_type": "execute_result"
    },
    {
     "data": {
      "image/png": "[encoded data removed]",
      "text/plain": [
       "<Figure size 432x288 with 2 Axes>"
      ]
     },
     "metadata": {},
     "output_type": "display_data"
    }
   ],
   "source": [
    "cf_matrix = confusion_matrix(y_test, y_pred)\n",
    "sns.heatmap(cf_matrix, annot=True, cmap='Blues')"
   ]
  },
  {
   "cell_type": "code",
   "execution_count": 83,
   "id": "4f874df1",
   "metadata": {},
   "outputs": [
    {
     "name": "stdout",
     "output_type": "stream",
     "text": [
      "Bagging's prediction accuracy is 0.985 and AUC score is 0.9861505681818182.\n"
     ]
    }
   ],
   "source": [
    "clf = BaggingClassifier()\n",
    "clf.fit(X_train, y_train)\n",
    "probs = clf.predict_proba(X_test)[:, 1]\n",
    "auc = roc_auc_score(y_test, probs)\n",
    "y_pred = clf.predict(X_test)\n",
    "acc = accuracy_score(y_test, y_pred)\n",
    "print(\"Bagging's prediction accuracy is {} and AUC score is {}.\".\n",
    "      format(acc, auc))"
   ]
  },
  {
   "cell_type": "code",
   "execution_count": 84,
   "id": "dab6066d",
   "metadata": {},
   "outputs": [
    {
     "data": {
      "text/plain": [
       "<AxesSubplot:>"
      ]
     },
     "execution_count": 84,
     "metadata": {},
     "output_type": "execute_result"
    },
    {
     "data": {
      "image/png": "[encoded data removed]",
      "text/plain": [
       "<Figure size 432x288 with 2 Axes>"
      ]
     },
     "metadata": {},
     "output_type": "display_data"
    }
   ],
   "source": [
    "cf_matrix = confusion_matrix(y_test, y_pred)\n",
    "sns.heatmap(cf_matrix, annot=True, cmap='Blues')"
   ]
  },
  {
   "cell_type": "code",
   "execution_count": 85,
   "id": "68e7949e",
   "metadata": {},
   "outputs": [
    {
     "name": "stdout",
     "output_type": "stream",
     "text": [
      "AdaBoost's prediction accuracy is 0.973 and AUC score is 0.9812475079744817.\n"
     ]
    }
   ],
   "source": [
    "clf = AdaBoostClassifier()\n",
    "clf.fit(X_train, y_train)\n",
    "probs = clf.predict_proba(X_test)[:, 1]\n",
    "auc = roc_auc_score(y_test, probs)\n",
    "y_pred = clf.predict(X_test)\n",
    "acc = accuracy_score(y_test, y_pred)\n",
    "print(\"AdaBoost's prediction accuracy is {} and AUC score is {}.\".\n",
    "      format(acc, auc))"
   ]
  },
  {
   "cell_type": "code",
   "execution_count": 86,
   "id": "bf3730c2",
   "metadata": {},
   "outputs": [
    {
     "data": {
      "text/plain": [
       "<AxesSubplot:>"
      ]
     },
     "execution_count": 86,
     "metadata": {},
     "output_type": "execute_result"
    },
    {
     "data": {
      "image/png": "[encoded data removed]",
      "text/plain": [
       "<Figure size 432x288 with 2 Axes>"
      ]
     },
     "metadata": {},
     "output_type": "display_data"
    }
   ],
   "source": [
    "cf_matrix = confusion_matrix(y_test, y_pred)\n",
    "sns.heatmap(cf_matrix, annot=True, cmap='Blues')"
   ]
  },
  {
   "cell_type": "code",
   "execution_count": 87,
   "id": "a53d916b",
   "metadata": {},
   "outputs": [
    {
     "name": "stdout",
     "output_type": "stream",
     "text": [
      "GradientBoosting's prediction accuracy is 0.985 and AUC score is 0.9975079744816587.\n"
     ]
    }
   ],
   "source": [
    "clf = GradientBoostingClassifier()\n",
    "clf.fit(X_train, y_train)\n",
    "probs = clf.predict_proba(X_test)[:, 1]\n",
    "auc = roc_auc_score(y_test, probs)\n",
    "y_pred = clf.predict(X_test)\n",
    "acc = accuracy_score(y_test, y_pred)\n",
    "print(\"GradientBoosting's prediction accuracy is {} and AUC score is {}.\".\n",
    "      format(acc, auc))"
   ]
  },
  {
   "cell_type": "code",
   "execution_count": 88,
   "id": "84f622f7",
   "metadata": {},
   "outputs": [
    {
     "data": {
      "text/plain": [
       "<AxesSubplot:>"
      ]
     },
     "execution_count": 88,
     "metadata": {},
     "output_type": "execute_result"
    },
    {
     "data": {
      "image/png": "[encoded data removed]",
      "text/plain": [
       "<Figure size 432x288 with 2 Axes>"
      ]
     },
     "metadata": {},
     "output_type": "display_data"
    }
   ],
   "source": [
    "cf_matrix = confusion_matrix(y_test, y_pred)\n",
    "sns.heatmap(cf_matrix, annot=True, cmap='Blues')"
   ]
  },
  {
   "cell_type": "code",
   "execution_count": 89,
   "id": "275c8331",
   "metadata": {},
   "outputs": [
    {
     "name": "stdout",
     "output_type": "stream",
     "text": [
      "LogisticRegression's prediction accuracy is 0.919 and AUC score is 0.9275194377990431.\n"
     ]
    }
   ],
   "source": [
    "clf = LogisticRegression()\n",
    "clf.fit(X_train, y_train)\n",
    "probs = clf.predict_proba(X_test)[:, 1]\n",
    "auc = roc_auc_score(y_test, probs)\n",
    "y_pred = clf.predict(X_test)\n",
    "acc = accuracy_score(y_test, y_pred)\n",
    "print(\"LogisticRegression's prediction accuracy is {} and AUC score is {}.\".\n",
    "      format(acc, auc))"
   ]
  },
  {
   "cell_type": "code",
   "execution_count": 90,
   "id": "097ef82d",
   "metadata": {},
   "outputs": [
    {
     "data": {
      "text/plain": [
       "<AxesSubplot:>"
      ]
     },
     "execution_count": 90,
     "metadata": {},
     "output_type": "execute_result"
    },
    {
     "data": {
      "image/png": "[encoded data removed]",
      "text/plain": [
       "<Figure size 432x288 with 2 Axes>"
      ]
     },
     "metadata": {},
     "output_type": "display_data"
    }
   ],
   "source": [
    "cf_matrix = confusion_matrix(y_test, y_pred)\n",
    "sns.heatmap(cf_matrix, annot=True, cmap='Blues')"
   ]
  },
  {
   "cell_type": "markdown",
   "id": "2999f098",
   "metadata": {},
   "source": [
    "### Cross validation"
   ]
  },
  {
   "cell_type": "code",
   "execution_count": 91,
   "id": "c059cddb",
   "metadata": {},
   "outputs": [
    {
     "name": "stdout",
     "output_type": "stream",
     "text": [
      "\n",
      "KNeighbors' prediction accuracy is 0.8584000000000002\n",
      "XGBoost's prediction accuracy is 0.984\n",
      "RandomForest's prediction accuracy is 0.9847999999999999\n",
      "ExtraTrees's prediction accuracy is 0.9798\n",
      "Bagging's prediction accuracy is 0.9814\n",
      "AdaBoost's prediction accuracy is 0.9558\n",
      "GradientBoosting's prediction accuracy is 0.9843999999999999\n",
      "LogisticRegression's prediction accuracy is 0.9156000000000001\n",
      "\n"
     ]
    }
   ],
   "source": [
    "knn_clf = KNeighborsClassifier()\n",
    "xgb_clf = XGBClassifier(eval_metric=[\"auc\"])\n",
    "rf_clf = RandomForestClassifier()\n",
    "et_clf = ExtraTreesClassifier()\n",
    "bag_clf = BaggingClassifier()\n",
    "ada_clf = AdaBoostClassifier()\n",
    "gb_clf = GradientBoostingClassifier()\n",
    "lr_clf = LogisticRegression()\n",
    "scores_knn = cross_val_score(knn_clf, X, y, cv = 5)\n",
    "scores_xgb = cross_val_score(xgb_clf, X, y, cv = 5)\n",
    "scores_rf = cross_val_score(rf_clf, X, y, cv = 5)\n",
    "scores_et = cross_val_score(et_clf, X, y, cv = 5)\n",
    "scores_bag = cross_val_score(bag_clf, X, y, cv = 5)\n",
    "scores_ada = cross_val_score(ada_clf, X, y, cv = 5)\n",
    "scores_gb = cross_val_score(gb_clf, X, y, cv = 5)\n",
    "scores_lr = cross_val_score(lr_clf, X, y, cv = 5)\n",
    "results = f\"\"\"\n",
    "KNeighbors' prediction accuracy is {scores_knn.mean()}\n",
    "XGBoost's prediction accuracy is {scores_xgb.mean()}\n",
    "RandomForest's prediction accuracy is {scores_rf.mean()}\n",
    "ExtraTrees's prediction accuracy is {scores_et.mean()}\n",
    "Bagging's prediction accuracy is {scores_bag.mean()}\n",
    "AdaBoost's prediction accuracy is {scores_ada.mean()}\n",
    "GradientBoosting's prediction accuracy is {scores_gb.mean()}\n",
    "LogisticRegression's prediction accuracy is {scores_lr.mean()}\n",
    "\"\"\"\n",
    "print(results)\n"
   ]
  },
  {
   "cell_type": "markdown",
   "id": "43606b7c",
   "metadata": {},
   "source": [
    "After comparing all the classifiers chosen to run the classification task above, it appears the best model so far –with no preprocessing on the dataset yet– is Random Forest with an accuracy score of 98.47% and the weakest model is KNeighbors with a predicted accuracy score of 85.84% and it also presents the highest number of false positives and false negatives in the confusion matrix. Furthermore, Random Forest has the highest number of true positives and the least false negatives. "
   ]
  },
  {
   "cell_type": "markdown",
   "id": "0df3e772",
   "metadata": {},
   "source": [
    "## Data preprocessing"
   ]
  },
  {
   "cell_type": "markdown",
   "id": "7d2f9e19",
   "metadata": {},
   "source": [
    "### Scaling numerical features"
   ]
  },
  {
   "cell_type": "markdown",
   "id": "256e2018",
   "metadata": {},
   "source": [
    "In this section, we are going to run the same classifiers a second time with a fine-tuned dataset (see: df.engineered), to see if we can get our accuracy scores to improve even more. "
   ]
  },
  {
   "cell_type": "code",
   "execution_count": 92,
   "id": "6b32a111",
   "metadata": {},
   "outputs": [],
   "source": [
    "num_feat = [\"Income\", \"Mortgage\", \"Education\"] \n",
    "\n",
    "#these categorical variables are already binary\n",
    "categorical_feat = [\"Securities Account\", \"CD Account\", \n",
    "                    \"Online\", \"CreditCard\"]    \n",
    "\n",
    "#preparing some features to one hot encode\n",
    "categorical_feat_to_onehot_encode = [\"Family\", \"CCAvg\"]    \n"
   ]
  },
  {
   "cell_type": "code",
   "execution_count": 93,
   "id": "5f10541e",
   "metadata": {},
   "outputs": [],
   "source": [
    "#let's scale the numerical features to avoid confusing the \n",
    "#classifiers with drasitically different numerical values\n",
    "scaler = StandardScaler()\n",
    "df_engineered[num_feat] = scaler.fit_transform(df_engineered[num_feat])"
   ]
  },
  {
   "cell_type": "code",
   "execution_count": 94,
   "id": "e98723eb",
   "metadata": {},
   "outputs": [
    {
     "data": {
      "text/html": [
       "<div>\n",
       "<style scoped>\n",
       "    .dataframe tbody tr th:only-of-type {\n",
       "        vertical-align: middle;\n",
       "    }\n",
       "\n",
       "    .dataframe tbody tr th {\n",
       "        vertical-align: top;\n",
       "    }\n",
       "\n",
       "    .dataframe thead th {\n",
       "        text-align: right;\n",
       "    }\n",
       "</style>\n",
       "<table border=\"1\" class=\"dataframe\">\n",
       "  <thead>\n",
       "    <tr style=\"text-align: right;\">\n",
       "      <th></th>\n",
       "      <th>Income</th>\n",
       "      <th>Family</th>\n",
       "      <th>CCAvg</th>\n",
       "      <th>Education</th>\n",
       "      <th>Mortgage</th>\n",
       "      <th>Personal Loan</th>\n",
       "      <th>Securities Account</th>\n",
       "      <th>CD Account</th>\n",
       "      <th>Online</th>\n",
       "      <th>CreditCard</th>\n",
       "    </tr>\n",
       "  </thead>\n",
       "  <tbody>\n",
       "    <tr>\n",
       "      <th>0</th>\n",
       "      <td>-0.538229</td>\n",
       "      <td>4</td>\n",
       "      <td>2</td>\n",
       "      <td>-1.049078</td>\n",
       "      <td>-0.555524</td>\n",
       "      <td>0</td>\n",
       "      <td>1</td>\n",
       "      <td>0</td>\n",
       "      <td>0</td>\n",
       "      <td>0</td>\n",
       "    </tr>\n",
       "    <tr>\n",
       "      <th>1</th>\n",
       "      <td>-0.864109</td>\n",
       "      <td>3</td>\n",
       "      <td>2</td>\n",
       "      <td>-1.049078</td>\n",
       "      <td>-0.555524</td>\n",
       "      <td>0</td>\n",
       "      <td>1</td>\n",
       "      <td>0</td>\n",
       "      <td>0</td>\n",
       "      <td>0</td>\n",
       "    </tr>\n",
       "    <tr>\n",
       "      <th>2</th>\n",
       "      <td>-1.363793</td>\n",
       "      <td>1</td>\n",
       "      <td>1</td>\n",
       "      <td>-1.049078</td>\n",
       "      <td>-0.555524</td>\n",
       "      <td>0</td>\n",
       "      <td>0</td>\n",
       "      <td>0</td>\n",
       "      <td>0</td>\n",
       "      <td>0</td>\n",
       "    </tr>\n",
       "    <tr>\n",
       "      <th>3</th>\n",
       "      <td>0.569765</td>\n",
       "      <td>1</td>\n",
       "      <td>3</td>\n",
       "      <td>0.141703</td>\n",
       "      <td>-0.555524</td>\n",
       "      <td>0</td>\n",
       "      <td>0</td>\n",
       "      <td>0</td>\n",
       "      <td>0</td>\n",
       "      <td>0</td>\n",
       "    </tr>\n",
       "    <tr>\n",
       "      <th>4</th>\n",
       "      <td>-0.625130</td>\n",
       "      <td>4</td>\n",
       "      <td>1</td>\n",
       "      <td>0.141703</td>\n",
       "      <td>-0.555524</td>\n",
       "      <td>0</td>\n",
       "      <td>0</td>\n",
       "      <td>0</td>\n",
       "      <td>0</td>\n",
       "      <td>1</td>\n",
       "    </tr>\n",
       "    <tr>\n",
       "      <th>...</th>\n",
       "      <td>...</td>\n",
       "      <td>...</td>\n",
       "      <td>...</td>\n",
       "      <td>...</td>\n",
       "      <td>...</td>\n",
       "      <td>...</td>\n",
       "      <td>...</td>\n",
       "      <td>...</td>\n",
       "      <td>...</td>\n",
       "      <td>...</td>\n",
       "    </tr>\n",
       "    <tr>\n",
       "      <th>4995</th>\n",
       "      <td>-0.733757</td>\n",
       "      <td>1</td>\n",
       "      <td>2</td>\n",
       "      <td>1.332484</td>\n",
       "      <td>-0.555524</td>\n",
       "      <td>0</td>\n",
       "      <td>0</td>\n",
       "      <td>0</td>\n",
       "      <td>1</td>\n",
       "      <td>0</td>\n",
       "    </tr>\n",
       "    <tr>\n",
       "      <th>4996</th>\n",
       "      <td>-1.276892</td>\n",
       "      <td>4</td>\n",
       "      <td>0</td>\n",
       "      <td>-1.049078</td>\n",
       "      <td>0.280238</td>\n",
       "      <td>0</td>\n",
       "      <td>0</td>\n",
       "      <td>0</td>\n",
       "      <td>1</td>\n",
       "      <td>0</td>\n",
       "    </tr>\n",
       "    <tr>\n",
       "      <th>4997</th>\n",
       "      <td>-1.081363</td>\n",
       "      <td>2</td>\n",
       "      <td>0</td>\n",
       "      <td>1.332484</td>\n",
       "      <td>-0.555524</td>\n",
       "      <td>0</td>\n",
       "      <td>0</td>\n",
       "      <td>0</td>\n",
       "      <td>0</td>\n",
       "      <td>0</td>\n",
       "    </tr>\n",
       "    <tr>\n",
       "      <th>4998</th>\n",
       "      <td>-0.538229</td>\n",
       "      <td>3</td>\n",
       "      <td>0</td>\n",
       "      <td>0.141703</td>\n",
       "      <td>-0.555524</td>\n",
       "      <td>0</td>\n",
       "      <td>0</td>\n",
       "      <td>0</td>\n",
       "      <td>1</td>\n",
       "      <td>0</td>\n",
       "    </tr>\n",
       "    <tr>\n",
       "      <th>4999</th>\n",
       "      <td>0.200434</td>\n",
       "      <td>3</td>\n",
       "      <td>1</td>\n",
       "      <td>-1.049078</td>\n",
       "      <td>-0.555524</td>\n",
       "      <td>0</td>\n",
       "      <td>0</td>\n",
       "      <td>0</td>\n",
       "      <td>1</td>\n",
       "      <td>1</td>\n",
       "    </tr>\n",
       "  </tbody>\n",
       "</table>\n",
       "<p>5000 rows × 10 columns</p>\n",
       "</div>"
      ],
      "text/plain": [
       "        Income  Family  CCAvg  Education  Mortgage  Personal Loan  \\\n",
       "0    -0.538229       4      2  -1.049078 -0.555524              0   \n",
       "1    -0.864109       3      2  -1.049078 -0.555524              0   \n",
       "2    -1.363793       1      1  -1.049078 -0.555524              0   \n",
       "3     0.569765       1      3   0.141703 -0.555524              0   \n",
       "4    -0.625130       4      1   0.141703 -0.555524              0   \n",
       "...        ...     ...    ...        ...       ...            ...   \n",
       "4995 -0.733757       1      2   1.332484 -0.555524              0   \n",
       "4996 -1.276892       4      0  -1.049078  0.280238              0   \n",
       "4997 -1.081363       2      0   1.332484 -0.555524              0   \n",
       "4998 -0.538229       3      0   0.141703 -0.555524              0   \n",
       "4999  0.200434       3      1  -1.049078 -0.555524              0   \n",
       "\n",
       "      Securities Account  CD Account  Online  CreditCard  \n",
       "0                      1           0       0           0  \n",
       "1                      1           0       0           0  \n",
       "2                      0           0       0           0  \n",
       "3                      0           0       0           0  \n",
       "4                      0           0       0           1  \n",
       "...                  ...         ...     ...         ...  \n",
       "4995                   0           0       1           0  \n",
       "4996                   0           0       1           0  \n",
       "4997                   0           0       0           0  \n",
       "4998                   0           0       1           0  \n",
       "4999                   0           0       1           1  \n",
       "\n",
       "[5000 rows x 10 columns]"
      ]
     },
     "execution_count": 94,
     "metadata": {},
     "output_type": "execute_result"
    }
   ],
   "source": [
    "df_engineered"
   ]
  },
  {
   "cell_type": "markdown",
   "id": "91f85ee2",
   "metadata": {},
   "source": [
    "### One-hot encoding categorical features"
   ]
  },
  {
   "cell_type": "code",
   "execution_count": 95,
   "id": "9e1deca8",
   "metadata": {},
   "outputs": [],
   "source": [
    "#here we're one hot encoding some of the categorical values\n",
    "enc = OneHotEncoder()\n",
    "cols_dict = {i: 'Family_' + str(i) for i in range(4)}\n",
    "cols_family = ['Family_' + str(i) for i in range(4)]\n",
    "df_engineered[cols_family] = pd.DataFrame(enc.\n",
    "                                          fit_transform(df_engineered[['Family']]).\n",
    "                                          toarray()).rename(columns = cols_dict)"
   ]
  },
  {
   "cell_type": "code",
   "execution_count": 96,
   "id": "0d7ff63f",
   "metadata": {},
   "outputs": [],
   "source": [
    "enc = OneHotEncoder()\n",
    "cols_dict = {i: 'CC_Avg_' + i for i in ['Low', 'Average', 'High', 'Very_High']}\n",
    "cols_ccavg = ['CC_Avg_' + i for i in ['Low', 'Average', 'High', 'Very_High']] \n",
    "df_engineered[cols_ccavg] = pd.DataFrame(enc.fit_transform(df_engineered[['CCAvg']]).\n",
    "                                         toarray()).rename(columns = cols_dict)"
   ]
  },
  {
   "cell_type": "code",
   "execution_count": 97,
   "id": "93324a21",
   "metadata": {},
   "outputs": [],
   "source": [
    "#now we're putting all our features in X except for the target feature, \n",
    "#Personal Loan, that we're putting in y\n",
    "X = df_engineered[num_feat + categorical_feat + cols_family + cols_ccavg]\n",
    "y = df_engineered['Personal Loan']\n",
    "X_train, X_test, y_train, y_test = train_test_split(X, y, \n",
    "                                                    test_size = 0.2, \n",
    "                                                    random_state = 5)"
   ]
  },
  {
   "cell_type": "markdown",
   "id": "40942a4b",
   "metadata": {},
   "source": [
    "**APPLYING THE SAME CLASSIFIERS TO THIS NOW TRANSFORMED DATASET - to see if we get better results**"
   ]
  },
  {
   "cell_type": "code",
   "execution_count": 98,
   "id": "9d68017b",
   "metadata": {},
   "outputs": [
    {
     "name": "stdout",
     "output_type": "stream",
     "text": [
      "KNeighbors' prediction accuracy using df.engineered is 0.971 and AUC score is 0.9707436204146731.\n"
     ]
    }
   ],
   "source": [
    "clf = KNeighborsClassifier()\n",
    "clf.fit(X_train, y_train)\n",
    "probs = clf.predict_proba(X_test)[:, 1]\n",
    "auc = roc_auc_score(y_test, probs)\n",
    "y_pred = clf.predict(X_test)\n",
    "acc = accuracy_score(y_test, y_pred)\n",
    "print(\"KNeighbors' prediction accuracy using df.engineered is {} and AUC score is {}.\".\n",
    "      format(acc, auc))"
   ]
  },
  {
   "cell_type": "code",
   "execution_count": 99,
   "id": "3855387f",
   "metadata": {},
   "outputs": [
    {
     "data": {
      "text/plain": [
       "<AxesSubplot:>"
      ]
     },
     "execution_count": 99,
     "metadata": {},
     "output_type": "execute_result"
    },
    {
     "data": {
      "image/png": "[encoded data removed]",
      "text/plain": [
       "<Figure size 432x288 with 2 Axes>"
      ]
     },
     "metadata": {},
     "output_type": "display_data"
    }
   ],
   "source": [
    "cf_matrix = confusion_matrix(y_test, y_pred)\n",
    "sns.heatmap(cf_matrix, annot=True, cmap='Blues')"
   ]
  },
  {
   "cell_type": "code",
   "execution_count": 100,
   "id": "26905510",
   "metadata": {},
   "outputs": [
    {
     "name": "stdout",
     "output_type": "stream",
     "text": [
      "XGBoost's prediction accuracy using df.engineered is 0.983 and AUC score is 0.9952153110047847.\n"
     ]
    }
   ],
   "source": [
    "clf = XGBClassifier()\n",
    "clf.fit(X_train, y_train, eval_metric=[\"auc\"])\n",
    "probs = clf.predict_proba(X_test)[:, 1]\n",
    "auc = roc_auc_score(y_test, probs)\n",
    "y_pred = clf.predict(X_test)\n",
    "acc = accuracy_score(y_test, y_pred)\n",
    "print(\"XGBoost's prediction accuracy using df.engineered is {} and AUC score is {}.\".\n",
    "      format(acc, auc))"
   ]
  },
  {
   "cell_type": "code",
   "execution_count": 101,
   "id": "eef61c48",
   "metadata": {},
   "outputs": [
    {
     "data": {
      "text/plain": [
       "<AxesSubplot:>"
      ]
     },
     "execution_count": 101,
     "metadata": {},
     "output_type": "execute_result"
    },
    {
     "data": {
      "image/png": "[encoded data removed]",
      "text/plain": [
       "<Figure size 432x288 with 2 Axes>"
      ]
     },
     "metadata": {},
     "output_type": "display_data"
    }
   ],
   "source": [
    "cf_matrix = confusion_matrix(y_test, y_pred)\n",
    "sns.heatmap(cf_matrix, annot=True, cmap='Blues')"
   ]
  },
  {
   "cell_type": "code",
   "execution_count": 102,
   "id": "5aaaef27",
   "metadata": {},
   "outputs": [
    {
     "name": "stdout",
     "output_type": "stream",
     "text": [
      "RandomForest's prediction accuracy using df.engineered is 0.985 and AUC score is 0.9880382775119618.\n"
     ]
    }
   ],
   "source": [
    "clf = RandomForestClassifier()\n",
    "clf.fit(X_train, y_train)\n",
    "probs = clf.predict_proba(X_test)[:, 1]\n",
    "auc = roc_auc_score(y_test, probs)\n",
    "y_pred = clf.predict(X_test)\n",
    "y_pred = clf.predict(X_test)\n",
    "acc = accuracy_score(y_test, y_pred)\n",
    "print(\"RandomForest's prediction accuracy using df.engineered is {} and AUC score is {}.\".\n",
    "      format(acc, auc))"
   ]
  },
  {
   "cell_type": "code",
   "execution_count": 103,
   "id": "016eb195",
   "metadata": {},
   "outputs": [
    {
     "data": {
      "text/plain": [
       "<AxesSubplot:>"
      ]
     },
     "execution_count": 103,
     "metadata": {},
     "output_type": "execute_result"
    },
    {
     "data": {
      "image/png": "[encoded data removed]",
      "text/plain": [
       "<Figure size 432x288 with 2 Axes>"
      ]
     },
     "metadata": {},
     "output_type": "display_data"
    }
   ],
   "source": [
    "cf_matrix = confusion_matrix(y_test, y_pred)\n",
    "sns.heatmap(cf_matrix, annot=True, cmap='Blues')"
   ]
  },
  {
   "cell_type": "code",
   "execution_count": 104,
   "id": "e2918f00",
   "metadata": {},
   "outputs": [
    {
     "name": "stdout",
     "output_type": "stream",
     "text": [
      "ExtraTrees's prediction accuracy using df.engineered is 0.975 and AUC score is 0.979453249601276.\n"
     ]
    }
   ],
   "source": [
    "clf = ExtraTreesClassifier()\n",
    "clf.fit(X_train, y_train)\n",
    "probs = clf.predict_proba(X_test)[:, 1]\n",
    "auc = roc_auc_score(y_test, probs)\n",
    "y_pred = clf.predict(X_test)\n",
    "acc = accuracy_score(y_test, y_pred)\n",
    "print(\"ExtraTrees's prediction accuracy using df.engineered is {} and AUC score is {}.\".\n",
    "      format(acc, auc))"
   ]
  },
  {
   "cell_type": "code",
   "execution_count": 105,
   "id": "177d3e8f",
   "metadata": {},
   "outputs": [
    {
     "data": {
      "text/plain": [
       "<AxesSubplot:>"
      ]
     },
     "execution_count": 105,
     "metadata": {},
     "output_type": "execute_result"
    },
    {
     "data": {
      "image/png": "[encoded data removed]",
      "text/plain": [
       "<Figure size 432x288 with 2 Axes>"
      ]
     },
     "metadata": {},
     "output_type": "display_data"
    }
   ],
   "source": [
    "cf_matrix = confusion_matrix(y_test, y_pred)\n",
    "sns.heatmap(cf_matrix, annot=True, cmap='Blues')"
   ]
  },
  {
   "cell_type": "code",
   "execution_count": 106,
   "id": "ea5be6b2",
   "metadata": {},
   "outputs": [
    {
     "name": "stdout",
     "output_type": "stream",
     "text": [
      "Bagging's prediction accuracy using df.engineered is 0.979 and AUC score is 0.9898699162679427.\n"
     ]
    }
   ],
   "source": [
    "clf = BaggingClassifier()\n",
    "clf.fit(X_train, y_train)\n",
    "probs = clf.predict_proba(X_test)[:, 1]\n",
    "auc = roc_auc_score(y_test, probs)\n",
    "y_pred = clf.predict(X_test)\n",
    "acc = accuracy_score(y_test, y_pred)\n",
    "print(\"Bagging's prediction accuracy using df.engineered is {} and AUC score is {}.\".\n",
    "      format(acc, auc))"
   ]
  },
  {
   "cell_type": "code",
   "execution_count": 107,
   "id": "762965f5",
   "metadata": {},
   "outputs": [
    {
     "data": {
      "text/plain": [
       "<AxesSubplot:>"
      ]
     },
     "execution_count": 107,
     "metadata": {},
     "output_type": "execute_result"
    },
    {
     "data": {
      "image/png": "[encoded data removed]",
      "text/plain": [
       "<Figure size 432x288 with 2 Axes>"
      ]
     },
     "metadata": {},
     "output_type": "display_data"
    }
   ],
   "source": [
    "cf_matrix = confusion_matrix(y_test, y_pred)\n",
    "sns.heatmap(cf_matrix, annot=True, cmap='Blues')"
   ]
  },
  {
   "cell_type": "code",
   "execution_count": 108,
   "id": "ea156676",
   "metadata": {},
   "outputs": [
    {
     "name": "stdout",
     "output_type": "stream",
     "text": [
      "AdaBoost's prediction accuracy using df.enginereed is 0.971 and AUC score is 0.9791168261562999.\n"
     ]
    }
   ],
   "source": [
    "clf = AdaBoostClassifier()\n",
    "clf.fit(X_train, y_train)\n",
    "probs = clf.predict_proba(X_test)[:, 1]\n",
    "auc = roc_auc_score(y_test, probs)\n",
    "y_pred = clf.predict(X_test)\n",
    "acc = accuracy_score(y_test, y_pred)\n",
    "print(\"AdaBoost's prediction accuracy using df.enginereed is {} and AUC score is {}.\".\n",
    "      format(acc, auc))"
   ]
  },
  {
   "cell_type": "code",
   "execution_count": 109,
   "id": "fa887b00",
   "metadata": {},
   "outputs": [
    {
     "data": {
      "text/plain": [
       "<AxesSubplot:>"
      ]
     },
     "execution_count": 109,
     "metadata": {},
     "output_type": "execute_result"
    },
    {
     "data": {
      "image/png": "[encoded data removed]",
      "text/plain": [
       "<Figure size 432x288 with 2 Axes>"
      ]
     },
     "metadata": {},
     "output_type": "display_data"
    }
   ],
   "source": [
    "cf_matrix = confusion_matrix(y_test, y_pred)\n",
    "sns.heatmap(cf_matrix, annot=True, cmap='Blues')"
   ]
  },
  {
   "cell_type": "code",
   "execution_count": 110,
   "id": "0e42c7c2",
   "metadata": {},
   "outputs": [
    {
     "name": "stdout",
     "output_type": "stream",
     "text": [
      "GradientBoosting's prediction accuracy using df.enginereed is 0.983 and AUC score is 0.9955205841307815.\n"
     ]
    }
   ],
   "source": [
    "clf = GradientBoostingClassifier()\n",
    "clf.fit(X_train, y_train)\n",
    "probs = clf.predict_proba(X_test)[:, 1]\n",
    "auc = roc_auc_score(y_test, probs)\n",
    "y_pred = clf.predict(X_test)\n",
    "acc = accuracy_score(y_test, y_pred)\n",
    "print(\"GradientBoosting's prediction accuracy using df.enginereed is {} and AUC score is {}.\".\n",
    "      format(acc, auc))"
   ]
  },
  {
   "cell_type": "code",
   "execution_count": 111,
   "id": "234e8cf9",
   "metadata": {},
   "outputs": [
    {
     "data": {
      "text/plain": [
       "<AxesSubplot:>"
      ]
     },
     "execution_count": 111,
     "metadata": {},
     "output_type": "execute_result"
    },
    {
     "data": {
      "image/png": "[encoded data removed]",
      "text/plain": [
       "<Figure size 432x288 with 2 Axes>"
      ]
     },
     "metadata": {},
     "output_type": "display_data"
    }
   ],
   "source": [
    "cf_matrix = confusion_matrix(y_test, y_pred)\n",
    "sns.heatmap(cf_matrix, annot=True, cmap='Blues')"
   ]
  },
  {
   "cell_type": "code",
   "execution_count": 112,
   "id": "119bd06a",
   "metadata": {},
   "outputs": [
    {
     "name": "stdout",
     "output_type": "stream",
     "text": [
      "LogisticRegression's prediction accuracy using df.engineered is 0.962 and AUC score is 0.9610870215311004.\n"
     ]
    }
   ],
   "source": [
    "clf = LogisticRegression()\n",
    "clf.fit(X_train, y_train)\n",
    "probs = clf.predict_proba(X_test)[:, 1]\n",
    "auc = roc_auc_score(y_test, probs)\n",
    "y_pred = clf.predict(X_test)\n",
    "acc = accuracy_score(y_test, y_pred)\n",
    "print(\"LogisticRegression's prediction accuracy using df.engineered is {} and AUC score is {}.\".\n",
    "      format(acc, auc))"
   ]
  },
  {
   "cell_type": "code",
   "execution_count": 113,
   "id": "67660a24",
   "metadata": {},
   "outputs": [
    {
     "data": {
      "text/plain": [
       "<AxesSubplot:>"
      ]
     },
     "execution_count": 113,
     "metadata": {},
     "output_type": "execute_result"
    },
    {
     "data": {
      "image/png": "[encoded data removed]",
      "text/plain": [
       "<Figure size 432x288 with 2 Axes>"
      ]
     },
     "metadata": {},
     "output_type": "display_data"
    }
   ],
   "source": [
    "cf_matrix = confusion_matrix(y_test, y_pred)\n",
    "sns.heatmap(cf_matrix, annot=True, cmap='Blues')"
   ]
  },
  {
   "cell_type": "code",
   "execution_count": 114,
   "id": "d411b2a9",
   "metadata": {},
   "outputs": [
    {
     "name": "stdout",
     "output_type": "stream",
     "text": [
      "\n",
      "KNeighbors' prediction accuracy is 0.9709999999999999\n",
      "XGBoost's prediction accuracy using df.engineered is 0.9809999999999999\n",
      "RandomForest's prediction accuracy using df.engineered is 0.9822\n",
      "ExtraTrees's prediction accuracy using df.engineered is 0.9732\n",
      "Bagging's prediction accuracy using df.engineered is 0.9812\n",
      "AdaBoost's prediction accuracy using df.engineered is 0.9702\n",
      "GradientBoosting's prediction accuracy using df.engineered is 0.9846\n",
      "LogisticRegression's prediction accuracy using df.engineered is 0.9572\n",
      "\n"
     ]
    }
   ],
   "source": [
    "knn_clf = KNeighborsClassifier()\n",
    "xgb_clf = XGBClassifier(eval_metric=[\"auc\"])\n",
    "rf_clf = RandomForestClassifier()\n",
    "et_clf = ExtraTreesClassifier()\n",
    "bag_clf = BaggingClassifier()\n",
    "ada_clf = AdaBoostClassifier()\n",
    "gb_clf = GradientBoostingClassifier()\n",
    "lr_clf = LogisticRegression()\n",
    "scores_knn = cross_val_score(knn_clf, X, y, cv = 5)\n",
    "scores_xgb = cross_val_score(xgb_clf, X, y, cv = 5)\n",
    "scores_rf = cross_val_score(rf_clf, X, y, cv = 5)\n",
    "scores_et = cross_val_score(et_clf, X, y, cv = 5)\n",
    "scores_bag = cross_val_score(bag_clf, X, y, cv = 5)\n",
    "scores_ada = cross_val_score(ada_clf, X, y, cv = 5)\n",
    "scores_gb = cross_val_score(gb_clf, X, y, cv = 5)\n",
    "scores_lr = cross_val_score(lr_clf, X, y, cv = 5)\n",
    "results = f\"\"\"\n",
    "KNeighbors' prediction accuracy is {scores_knn.mean()}\n",
    "XGBoost's prediction accuracy using df.engineered is {scores_xgb.mean()}\n",
    "RandomForest's prediction accuracy using df.engineered is {scores_rf.mean()}\n",
    "ExtraTrees's prediction accuracy using df.engineered is {scores_et.mean()}\n",
    "Bagging's prediction accuracy using df.engineered is {scores_bag.mean()}\n",
    "AdaBoost's prediction accuracy using df.engineered is {scores_ada.mean()}\n",
    "GradientBoosting's prediction accuracy using df.engineered is {scores_gb.mean()}\n",
    "LogisticRegression's prediction accuracy using df.engineered is {scores_lr.mean()}\n",
    "\"\"\"\n",
    "print(results)\n",
    "\n",
    "\n"
   ]
  },
  {
   "cell_type": "markdown",
   "id": "d7b2225a",
   "metadata": {},
   "source": [
    "## Fine-tuning"
   ]
  },
  {
   "cell_type": "markdown",
   "id": "7c9f948c",
   "metadata": {},
   "source": [
    "After improving the dataset by reengineering it and then rerunning the classifiers, Random Forest is not the highest performing model anymore, it even slighly decreased from 98.47%  to 98.22%. Indeed now the most performant is Gradient Boosting with a slight amelioration from 98.43% to 98.46%. \n",
    "\n",
    "Additionaly, Logistic Regression is now the weakest model, which is due to KNeighbors' impressive amelioration from  85.84% to 97%. Indeed, KNN perfoms poorly when there are irrelevant features and poor quality data: it cannot handle noisy data, so the steps taken greatly helped. \n",
    "\n",
    "Nevertheless, they potentially still have room for improvement, which we are going to intend doing via a further extensive fine tuning. This time, we'll intent tweaking the number of estimators of GradientBoosting and RandomForest to find the most appropriate one. "
   ]
  },
  {
   "cell_type": "code",
   "execution_count": 115,
   "id": "edd7c7bd",
   "metadata": {},
   "outputs": [
    {
     "data": {
      "text/plain": [
       "['mean_fit_time',\n",
       " 'mean_score_time',\n",
       " 'mean_test_score',\n",
       " 'param_criterion',\n",
       " 'param_n_estimators',\n",
       " 'params',\n",
       " 'rank_test_score',\n",
       " 'split0_test_score',\n",
       " 'split1_test_score',\n",
       " 'split2_test_score',\n",
       " 'split3_test_score',\n",
       " 'split4_test_score',\n",
       " 'std_fit_time',\n",
       " 'std_score_time',\n",
       " 'std_test_score']"
      ]
     },
     "execution_count": 115,
     "metadata": {},
     "output_type": "execute_result"
    }
   ],
   "source": [
    "gb = GradientBoostingClassifier()\n",
    "n_estimators = [100, 10, 50, 200, 500, 1000]\n",
    "criterion = [\"mse\", \"squared_error\"]\n",
    "parameters = {'n_estimators': n_estimators, \n",
    "              'criterion':  criterion}\n",
    "clf = GridSearchCV(gb, parameters)\n",
    "clf.fit(X, y)\n",
    "sorted(clf.cv_results_.keys())\n",
    "\n",
    "\n"
   ]
  },
  {
   "cell_type": "code",
   "execution_count": 116,
   "id": "e1feba21",
   "metadata": {},
   "outputs": [
    {
     "data": {
      "text/plain": [
       "array([0.9846, 0.9678, 0.9848, 0.9832, 0.9816, 0.982 ,    nan,    nan,\n",
       "          nan,    nan,    nan,    nan])"
      ]
     },
     "execution_count": 116,
     "metadata": {},
     "output_type": "execute_result"
    }
   ],
   "source": [
    "clf.cv_results_['mean_test_score']"
   ]
  },
  {
   "cell_type": "code",
   "execution_count": 117,
   "id": "456ac106",
   "metadata": {},
   "outputs": [
    {
     "data": {
      "text/plain": [
       "[{'criterion': 'mse', 'n_estimators': 100},\n",
       " {'criterion': 'mse', 'n_estimators': 10},\n",
       " {'criterion': 'mse', 'n_estimators': 50},\n",
       " {'criterion': 'mse', 'n_estimators': 200},\n",
       " {'criterion': 'mse', 'n_estimators': 500},\n",
       " {'criterion': 'mse', 'n_estimators': 1000},\n",
       " {'criterion': 'squared_error', 'n_estimators': 100},\n",
       " {'criterion': 'squared_error', 'n_estimators': 10},\n",
       " {'criterion': 'squared_error', 'n_estimators': 50},\n",
       " {'criterion': 'squared_error', 'n_estimators': 200},\n",
       " {'criterion': 'squared_error', 'n_estimators': 500},\n",
       " {'criterion': 'squared_error', 'n_estimators': 1000}]"
      ]
     },
     "execution_count": 117,
     "metadata": {},
     "output_type": "execute_result"
    }
   ],
   "source": [
    "clf.cv_results_['params']"
   ]
  },
  {
   "cell_type": "code",
   "execution_count": 118,
   "id": "65499fad",
   "metadata": {},
   "outputs": [
    {
     "name": "stdout",
     "output_type": "stream",
     "text": [
      "GradientBoosting's prediction accuracy is 0.983 and AUC score is 0.9954395933014355.\n"
     ]
    }
   ],
   "source": [
    "clf = GradientBoostingClassifier(n_estimators=200)\n",
    "clf.fit(X_train, y_train)\n",
    "probs = clf.predict_proba(X_test)[:, 1]\n",
    "auc = roc_auc_score(y_test, probs)\n",
    "y_pred = clf.predict(X_test)\n",
    "y_pred = clf.predict(X_test)\n",
    "acc = accuracy_score(y_test, y_pred)\n",
    "print(\"GradientBoosting's prediction accuracy is {} and AUC score is {}.\".\n",
    "      format(acc, auc))"
   ]
  },
  {
   "cell_type": "code",
   "execution_count": 119,
   "id": "d34f766e",
   "metadata": {},
   "outputs": [
    {
     "data": {
      "text/plain": [
       "['mean_fit_time',\n",
       " 'mean_score_time',\n",
       " 'mean_test_score',\n",
       " 'param_criterion',\n",
       " 'param_n_estimators',\n",
       " 'params',\n",
       " 'rank_test_score',\n",
       " 'split0_test_score',\n",
       " 'split1_test_score',\n",
       " 'split2_test_score',\n",
       " 'split3_test_score',\n",
       " 'split4_test_score',\n",
       " 'std_fit_time',\n",
       " 'std_score_time',\n",
       " 'std_test_score']"
      ]
     },
     "execution_count": 119,
     "metadata": {},
     "output_type": "execute_result"
    }
   ],
   "source": [
    "rf = RandomForestClassifier()\n",
    "n_estimators = [100, 10, 50, 200, 500, 1000]\n",
    "criterion = [\"gini\", \"entropy\"]\n",
    "parameters = {'n_estimators': n_estimators, \n",
    "              'criterion':  criterion}\n",
    "clf = GridSearchCV(rf, parameters)\n",
    "clf.fit(X, y)\n",
    "sorted(clf.cv_results_.keys())"
   ]
  },
  {
   "cell_type": "code",
   "execution_count": 120,
   "id": "d7ccf82d",
   "metadata": {},
   "outputs": [
    {
     "data": {
      "text/plain": [
       "array([0.9818, 0.9794, 0.9816, 0.9818, 0.982 , 0.9824, 0.9806, 0.977 ,\n",
       "       0.9816, 0.9812, 0.9818, 0.9818])"
      ]
     },
     "execution_count": 120,
     "metadata": {},
     "output_type": "execute_result"
    }
   ],
   "source": [
    "clf.cv_results_['mean_test_score']"
   ]
  },
  {
   "cell_type": "code",
   "execution_count": 121,
   "id": "7145ee3a",
   "metadata": {},
   "outputs": [
    {
     "data": {
      "text/plain": [
       "[{'criterion': 'gini', 'n_estimators': 100},\n",
       " {'criterion': 'gini', 'n_estimators': 10},\n",
       " {'criterion': 'gini', 'n_estimators': 50},\n",
       " {'criterion': 'gini', 'n_estimators': 200},\n",
       " {'criterion': 'gini', 'n_estimators': 500},\n",
       " {'criterion': 'gini', 'n_estimators': 1000},\n",
       " {'criterion': 'entropy', 'n_estimators': 100},\n",
       " {'criterion': 'entropy', 'n_estimators': 10},\n",
       " {'criterion': 'entropy', 'n_estimators': 50},\n",
       " {'criterion': 'entropy', 'n_estimators': 200},\n",
       " {'criterion': 'entropy', 'n_estimators': 500},\n",
       " {'criterion': 'entropy', 'n_estimators': 1000}]"
      ]
     },
     "execution_count": 121,
     "metadata": {},
     "output_type": "execute_result"
    }
   ],
   "source": [
    "clf.cv_results_['params']"
   ]
  },
  {
   "cell_type": "code",
   "execution_count": 122,
   "id": "39a0e287",
   "metadata": {},
   "outputs": [
    {
     "name": "stdout",
     "output_type": "stream",
     "text": [
      "RandomForest's prediction accuracy is 0.984 and AUC score is 0.9880195873205742.\n"
     ]
    }
   ],
   "source": [
    "clf = RandomForestClassifier(n_estimators=200)\n",
    "clf.fit(X_train, y_train)\n",
    "probs = clf.predict_proba(X_test)[:, 1]\n",
    "auc = roc_auc_score(y_test, probs)\n",
    "y_pred = clf.predict(X_test)\n",
    "y_pred = clf.predict(X_test)\n",
    "acc = accuracy_score(y_test, y_pred)\n",
    "print(\"RandomForest's prediction accuracy is {} and AUC score is {}.\".\n",
    "      format(acc, auc))"
   ]
  },
  {
   "cell_type": "markdown",
   "id": "91f82163",
   "metadata": {},
   "source": [
    "After fine tuning the best performing classifier –Random Forest– even further, we managed to increase the final accuracy score to 98.4% and AUC score to 98.76%, which is not a lot.\n"
   ]
  },
  {
   "cell_type": "markdown",
   "id": "1ed042cc",
   "metadata": {},
   "source": [
    "### Findings from modelling"
   ]
  },
  {
   "cell_type": "markdown",
   "id": "d14b788f",
   "metadata": {},
   "source": [
    "To conclude, the model that seems to perform the best in this classifier task is Random Forest. In the final seciton, it resulted in an accuracy score of 98.9%, which is the highest of all. Moreover,it displays the most true positive and the least false negatives. Moreover, Gradient Boosting was also a high performer, but only after fine tuning the model.\n",
    "On another hand, the worst ones were KNeighbors and Logistic Regression, even after preprocessing the dataset.\n",
    "However, the results are still performant for every model. Some classifiers would have performed more poorly so it was ineffective to even include them. One example could be Naive Bayes: given the high correlation of some of the variables — Income with CCAvg or even Experience with Age — it would have performed poorly, since one of its requirement is to that variables are independent. "
   ]
  },
  {
   "cell_type": "markdown",
   "id": "fc3da94d",
   "metadata": {},
   "source": [
    "## Conclusion\n"
   ]
  },
  {
   "cell_type": "markdown",
   "id": "4ccdf4a4",
   "metadata": {},
   "source": [
    "The aim of this predictive task was to examine whether it is possible to transform depositors into borrowers, or in other terms, to predict whether a customer is likely to make a Personal Loan at Thera Bank. \n",
    "To answer that, we applied a plethora of classification algorithms to our dataset. The result from this analysis would reflect how confident we could be in trusting the different best models, in this case trusting Random Forest and Gradient Boosting to tell us which class of customers is the most likekly to take personal loans. "
   ]
  }
 ],
 "metadata": {
  "kernelspec": {
   "display_name": "Python 3",
   "language": "python",
   "name": "python3"
  },
  "language_info": {
   "codemirror_mode": {
    "name": "ipython",
    "version": 3
   },
   "file_extension": ".py",
   "mimetype": "text/x-python",
   "name": "python",
   "nbconvert_exporter": "python",
   "pygments_lexer": "ipython3",
   "version": "3.8.8"
  }
 },
 "nbformat": 4,
 "nbformat_minor": 5
}
